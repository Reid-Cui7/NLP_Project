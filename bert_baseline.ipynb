{
 "cells": [
  {
   "cell_type": "code",
   "execution_count": 10,
   "id": "09219614",
   "metadata": {},
   "outputs": [
    {
     "data": {
      "text/plain": [
       "2021"
      ]
     },
     "execution_count": 10,
     "metadata": {},
     "output_type": "execute_result"
    }
   ],
   "source": [
    "import torch\n",
    "import random\n",
    "import numpy as np\n",
    "\n",
    "\n",
    "config = {\n",
    "    'train_file_path': 'dataset/train.csv',\n",
    "    'test_file_path': 'dataset/test.csv',\n",
    "    'train_val_ratio': 0.1,\n",
    "    'model_path': 'dataset/BERT_model',\n",
    "    'batch_size': 32,\n",
    "    'num_epochs': 10,\n",
    "    'learning_rate': 2e-5,\n",
    "    'logging_step': 500,\n",
    "    'seed': 2021\n",
    "}\n",
    "config['device']='cuda' if torch.cuda.is_available() else 'cpu'\n",
    "\n",
    "def seed_everything(seed):\n",
    "    random.seed(seed)\n",
    "    np.random.seed(seed)\n",
    "    torch.manual_seed(seed)\n",
    "    torch.cuda.manual_seed_all(seed)\n",
    "    return seed\n",
    "\n",
    "seed_everything(config['seed'])"
   ]
  },
  {
   "cell_type": "code",
   "execution_count": 13,
   "id": "d06cd8b9",
   "metadata": {},
   "outputs": [],
   "source": [
    "import pandas as pd\n",
    "from tqdm import tqdm\n",
    "from collections import defaultdict\n",
    "\n",
    "\n",
    "def read_data(config, tokenizer, mode='train'):\n",
    "    # read train/test data\n",
    "    data_df = pd.read_csv(config[f'{mode}_file_path'], sep=',')\n",
    "    if mode == 'train':\n",
    "        # if is train, split dataset: train/val\n",
    "        X_train, y_train = defaultdict(list), []\n",
    "        X_val, y_val = defaultdict(list), []\n",
    "        num_val = int(len(data_df) * config['train_val_ratio'])\n",
    "    else:\n",
    "        X_test, y_test = defaultdict(list), []\n",
    "        \n",
    "    for i, row in tqdm(data_df.iterrows(), desc=f'preprocess {mode} data', total=len(data_df)):\n",
    "        # get label\n",
    "        label = row[1] if mode == 'train' else 0\n",
    "        # get sentence\n",
    "        sentence = row[-1]\n",
    "        # add_special_tokens: CLS SEP\n",
    "        # return_token_type_ids\n",
    "        # return_attention_mask\n",
    "        inputs = tokenizer.encode_plus(sentence, add_special_tokens=True, return_token_type_ids=True, return_attention_mask=True)\n",
    "        \n",
    "        if mode == 'train':\n",
    "            if i < num_val:\n",
    "                X_val['input_ids'].append(inputs['input_ids'])\n",
    "                y_val.append(label)\n",
    "                X_val['token_type_ids'].append(inputs['token_type_ids'])\n",
    "                X_val['attention_mask'].append(inputs['attention_mask'])\n",
    "            else:\n",
    "                X_train['inputs_ids'].append(inputs['input_ids'])\n",
    "                y_train.append(label)\n",
    "                X_train['token_type_ids'].append(inputs['token_type_ids'])\n",
    "                X_train['attention_mask'].append(inputs['attention_mask'])\n",
    "        else:\n",
    "            X_test['inputs_ids'].append(inputs['input_ids'])\n",
    "            y_test.append(label)\n",
    "            X_test['token_type_ids'].append(inputs['token_type_ids'])\n",
    "            X_test['attention_mask'].append(inputs['attention_mask'])\n",
    "    \n",
    "    if mode == 'train':\n",
    "        label2id = {label: i for i, label in enumerate(np.unique(y_train))} \n",
    "        id2label = {i: label for label, i in label2id.items()} \n",
    "        y_train = torch.tensor([label2id[i] for i in y_train], dtype=torch.long)  \n",
    "        y_val = torch.tensor([label2id[i] for i in y_val], dtype=torch.long)\n",
    "        \n",
    "        return X_train, y_train, X_val, y_val, label2id, id2label\n",
    "    else:\n",
    "        y_test = torch.tensor(y_test, dtype=torch.long)\n",
    "        \n",
    "        return X_test, y_test"
   ]
  },
  {
   "cell_type": "code",
   "execution_count": 22,
   "id": "14fc62d8",
   "metadata": {},
   "outputs": [],
   "source": [
    "from torch.utils.data import Dataset\n",
    "\n",
    "class TNEWSData(Dataset):\n",
    "    def __init__(self, X, y):\n",
    "        self.x = X\n",
    "        self.y = y\n",
    "        \n",
    "    def __getitem__(self, idx):\n",
    "        return {\n",
    "            'inputs_ids' : self.x['inputs_ids'][idx],\n",
    "            'label' : self.y[idx],\n",
    "            'token_type_ids': self.x['token_type_ids'][idx],\n",
    "            'attention_mask': self.x['attention_mask'][idx]\n",
    "        }\n",
    "    \n",
    "    def __len__(self):\n",
    "        return self.y.size(0)"
   ]
  },
  {
   "cell_type": "code",
   "execution_count": 25,
   "id": "8abcd0d9",
   "metadata": {},
   "outputs": [],
   "source": [
    "def collate_fn(examples):\n",
    "    input_ids_list, labels = [], []\n",
    "    token_type_ids_list, attention_mask_list = [], []\n",
    "    \n",
    "    for example in examples:\n",
    "        input_ids_list.append(example['inputs_ids'])\n",
    "        labels.append(example['label'])\n",
    "        token_type_ids_list.append(example['token_type_ids'])\n",
    "        attention_mask_list.append(example['attention_mask'])\n",
    "        \n",
    "    # to tensor\n",
    "    max_length = max(len(input_ids) for input_ids in input_ids_list)\n",
    "    # shape: (len(labels), max_length)\n",
    "    input_ids_tensor = torch.zeros((len(labels), max_length), dtype=torch.long)\n",
    "    token_type_ids_tensor = torch.zeros_like(input_ids_tensor)\n",
    "    attention_mask_tensor = torch.zeros_like(input_ids_tensor)\n",
    "    \n",
    "    for i, input_ids in enumerate(input_ids_list):\n",
    "        input_ids_tensor[i, :len(input_ids)] = torch.tensor(input_ids, dtype=torch.long)\n",
    "        token_type_ids_tensor[i, :len(input_ids)] = torch.tensor(token_type_ids_list[i], dtype=torch.long)\n",
    "        attention_mask_tensor[i, :len(input_ids)] = torch.tensor(attention_mask_list[i], dtype=torch.long)\n",
    "        \n",
    "    return {\n",
    "        'input_ids' : input_ids_tensor,\n",
    "        'labels' : torch.tensor(labels, dtype=torch.long),\n",
    "        'token_type_ids': token_type_ids_tensor,\n",
    "        'attention_mask': attention_mask_tensor\n",
    "    }"
   ]
  },
  {
   "cell_type": "code",
   "execution_count": 16,
   "id": "b29e850f",
   "metadata": {},
   "outputs": [],
   "source": [
    "from transformers import BertTokenizer\n",
    "from torch.utils.data import DataLoader\n",
    "\n",
    "def build_dataloader(config):\n",
    "    tokenizer = BertTokenizer.from_pretrained(config['model_path'])\n",
    "    X_train, y_train, X_val, y_val, label2id, id2label = read_data(config, tokenizer, mode='train')\n",
    "    X_test, y_test = read_data(config, tokenizer, mode='test')\n",
    "    \n",
    "    train_dataset = TNEWSData(X_train, y_train)\n",
    "    val_dataset = TNEWSData(X_val, y_val)\n",
    "    test_dataset = TNEWSData(X_test, y_test)\n",
    "    \n",
    "    train_dataloader = DataLoader(train_dataset, batch_size=config['batch_size'], num_workers=4, shuffle=True, collate_fn=collate_fn)\n",
    "    val_dataloader = DataLoader(val_dataset, batch_size=config['batch_size'], num_workers=4, shuffle=False, collate_fn=collate_fn)\n",
    "    test_dataloader = DataLoader(test_dataset, batch_size=config['batch_size'], num_workers=4, shuffle=False, collate_fn=collate_fn)\n",
    "    \n",
    "    return train_dataloader, val_dataloader, test_dataloader, id2label"
   ]
  },
  {
   "cell_type": "code",
   "execution_count": 26,
   "id": "26e1f44f",
   "metadata": {},
   "outputs": [
    {
     "name": "stderr",
     "output_type": "stream",
     "text": [
      "preprocess train data: 100%|███████████████████████████████████████████████████████████████████████████████████████████████████████████████████████████████████████████████████| 53360/53360 [00:19<00:00, 2769.92it/s]\n",
      "preprocess test data: 100%|████████████████████████████████████████████████████████████████████████████████████████████████████████████████████████████████████████████████████| 10000/10000 [00:03<00:00, 2804.56it/s]\n"
     ]
    }
   ],
   "source": [
    "train_dataloader, val_dataloader, test_dataloader, id2label = build_dataloader(config)"
   ]
  },
  {
   "cell_type": "code",
   "execution_count": 27,
   "id": "326a8422",
   "metadata": {},
   "outputs": [
    {
     "name": "stdout",
     "output_type": "stream",
     "text": [
      "{'input_ids': tensor([[ 101, 2391, 1400,  ...,    0,    0,    0],\n",
      "        [ 101, 7716,  756,  ...,    0,    0,    0],\n",
      "        [ 101, 1282,  674,  ...,    0,    0,    0],\n",
      "        ...,\n",
      "        [ 101,  740,  678,  ...,    0,    0,    0],\n",
      "        [ 101, 8702, 2349,  ...,    0,    0,    0],\n",
      "        [ 101, 1059, 3173,  ...,    0,    0,    0]]), 'labels': tensor([ 3,  7,  6,  9,  4, 14, 13,  3, 14,  6,  1,  7,  2,  2,  2,  1, 11,  8,\n",
      "        13, 11,  7,  6,  5,  8,  9,  1,  4,  5, 13,  0,  3,  6]), 'token_type_ids': tensor([[0, 0, 0,  ..., 0, 0, 0],\n",
      "        [0, 0, 0,  ..., 0, 0, 0],\n",
      "        [0, 0, 0,  ..., 0, 0, 0],\n",
      "        ...,\n",
      "        [0, 0, 0,  ..., 0, 0, 0],\n",
      "        [0, 0, 0,  ..., 0, 0, 0],\n",
      "        [0, 0, 0,  ..., 0, 0, 0]]), 'attention_mask': tensor([[1, 1, 1,  ..., 0, 0, 0],\n",
      "        [1, 1, 1,  ..., 0, 0, 0],\n",
      "        [1, 1, 1,  ..., 0, 0, 0],\n",
      "        ...,\n",
      "        [1, 1, 1,  ..., 0, 0, 0],\n",
      "        [1, 1, 1,  ..., 0, 0, 0],\n",
      "        [1, 1, 1,  ..., 0, 0, 0]])}\n"
     ]
    }
   ],
   "source": [
    "for batch in train_dataloader:\n",
    "    print(batch)\n",
    "    break"
   ]
  },
  {
   "cell_type": "code",
   "execution_count": null,
   "id": "72482ac8",
   "metadata": {},
   "outputs": [],
   "source": []
  }
 ],
 "metadata": {
  "kernelspec": {
   "display_name": "Python 3 (ipykernel)",
   "language": "python",
   "name": "python3"
  },
  "language_info": {
   "codemirror_mode": {
    "name": "ipython",
    "version": 3
   },
   "file_extension": ".py",
   "mimetype": "text/x-python",
   "name": "python",
   "nbconvert_exporter": "python",
   "pygments_lexer": "ipython3",
   "version": "3.8.12"
  }
 },
 "nbformat": 4,
 "nbformat_minor": 5
}
