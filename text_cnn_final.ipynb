{
 "cells": [
  {
   "cell_type": "code",
   "execution_count": 15,
   "metadata": {},
   "outputs": [
    {
     "data": {
      "text/plain": [
       "10003"
      ]
     },
     "execution_count": 15,
     "metadata": {},
     "output_type": "execute_result"
    }
   ],
   "source": [
    "import torch\n",
    "import torch.nn as nn\n",
    "\n",
    "\n",
    "config = {\n",
    "    'train_file_path': 'dataset/train.csv',\n",
    "    'test_file_path': 'dataset/test.csv',\n",
    "    'embedding_path': 'dataset/sgns.weibo.word.bz2',\n",
    "    'train_val_ratio': 0.1,\n",
    "    'vocab_size': 30000,\n",
    "    'batch_size': 64,\n",
    "    'num_epochs': 10,\n",
    "    'learning_rate': 1e-3,\n",
    "    'logging_step': 300,\n",
    "    'seed': 10003\n",
    "}\n",
    "\n",
    "config['device'] = 'cuda' if torch.cuda.is_available() else 'cpu'\n",
    "\n",
    "import random\n",
    "import numpy as np\n",
    "\n",
    "def seed_everything(seed):\n",
    "    random.seed(seed)\n",
    "    np.random.seed(seed)\n",
    "    torch.manual_seed(seed)\n",
    "    torch.cuda.manual_seed_all(seed)\n",
    "    return seed\n",
    "\n",
    "seed_everything(config['seed'])"
   ]
  },
  {
   "cell_type": "code",
   "execution_count": 62,
   "metadata": {},
   "outputs": [],
   "source": [
    "# train.csv 四列 id, label, label_desc, sentence\n",
    "from collections import Counter\n",
    "from tqdm import tqdm\n",
    "import jieba\n",
    "def get_vocab(config):\n",
    "    token_counter = Counter()\n",
    "    with open(config['train_file_path'], 'r', encoding='utf8') as f:\n",
    "        lines = f.readlines()\n",
    "        for line in tqdm(lines, desc='Counting tokens', total=len(lines)):\n",
    "            sent = line.split(',')[-1].strip()\n",
    "            sent_cut = list(jieba.cut(sent))\n",
    "            token_counter.update(sent_cut)\n",
    "            # token_counter {'我': 2,'是': 5}\n",
    "    \n",
    "    vocab = set(token for token, _ in token_counter.most_common(config['vocab_size']))\n",
    "    return vocab"
   ]
  },
  {
   "cell_type": "code",
   "execution_count": 63,
   "metadata": {},
   "outputs": [
    {
     "name": "stderr",
     "output_type": "stream",
     "text": [
      "Counting tokens: 100%|█████████████████████████████████████████████████████████████████████████████████████████████████████████| 53361/53361 [00:05<00:00, 9519.25it/s]\n"
     ]
    }
   ],
   "source": [
    "vocab = get_vocab(config)"
   ]
  },
  {
   "cell_type": "code",
   "execution_count": 12,
   "metadata": {},
   "outputs": [],
   "source": [
    "import bz2\n",
    "\n",
    "with bz2.open(config['embedding_path']) as f:\n",
    "    token_vector = f.readlines()"
   ]
  },
  {
   "cell_type": "code",
   "execution_count": 14,
   "metadata": {},
   "outputs": [
    {
     "name": "stdout",
     "output_type": "stream",
     "text": [
      "是\n",
      "300\n"
     ]
    }
   ],
   "source": [
    "for i, line in enumerate(token_vector):\n",
    "    if i == 10:\n",
    "        line = line.split()\n",
    "        print(line[0].decode('utf-8'))\n",
    "        # print(line[1:])\n",
    "        print(len(line[1:]))\n",
    "        break"
   ]
  },
  {
   "cell_type": "code",
   "execution_count": 65,
   "metadata": {},
   "outputs": [],
   "source": [
    "# 将 词典（vocab） 中的token 转化为 词向量\n",
    "# token -> embedding \n",
    "# token -> id\n",
    "\n",
    "# '是' <-> 10 <-> 300d Vector\n",
    "\n",
    "def get_embedding(vocab):\n",
    "    token2embedding ={}\n",
    "\n",
    "    with bz2.open('dataset/sgns.weibo.word.bz2') as f:\n",
    "        token_vector = f.readlines()\n",
    "\n",
    "        meta_info = token_vector[0].split()\n",
    "        print(f'{meta_info[0]} tokens in embedding file in total, vector size is {meta_info[1]}')\n",
    "\n",
    "        # sgns.weibo.word.bz2 从第二行开始，每一行是 'token embedding' 的形式\n",
    "        # '我' 0.88383 0.22222 *300\n",
    "        for line in tqdm(token_vector[1:]):\n",
    "            line = line.split()\n",
    "            token = line[0].decode('utf8')\n",
    "\n",
    "            vector = line[1:]\n",
    "\n",
    "            if token in vocab:\n",
    "                token2embedding[token] = [float(num) for num in vector]\n",
    "\n",
    "        # enumerate(, [start])\n",
    "        token2id = {token: idx for idx, token in enumerate(token2embedding.keys(), 4)}\n",
    "        id2embedding = {token2id[token]: embedding for token, embedding in token2embedding.items()}\n",
    "\n",
    "        PAD, UNK, BOS, EOS = '<pad>', '<unk>', '<bos>', '<eos>'\n",
    "\n",
    "        token2id[PAD] = 0\n",
    "        token2id[UNK] = 1\n",
    "        token2id[BOS] = 2\n",
    "        token2id[EOS] = 3\n",
    "\n",
    "        id2embedding[0] = [.0] * int(meta_info[1])\n",
    "        id2embedding[1] = [.0] * int(meta_info[1])\n",
    "\n",
    "        id2embedding[2] = np.random.random(int(meta_info[1])).tolist()\n",
    "        id2embedding[3] = np.random.random(int(meta_info[1])).tolist()\n",
    "\n",
    "        emb_mat = [id2embedding[idx] for idx in range(len(id2embedding))]\n",
    "\n",
    "        return torch.tensor(emb_mat, dtype=torch.float), token2id, len(vocab)+4"
   ]
  },
  {
   "cell_type": "code",
   "execution_count": 66,
   "metadata": {},
   "outputs": [
    {
     "name": "stdout",
     "output_type": "stream",
     "text": [
      "b'195202' tokens in embedding file in total, vector size is b'300'\n"
     ]
    },
    {
     "name": "stderr",
     "output_type": "stream",
     "text": [
      "100%|███████████████████████████████████████████████████████████████████████████████████████████████████████████████████████| 195202/195202 [00:04<00:00, 41941.50it/s]"
     ]
    },
    {
     "name": "stdout",
     "output_type": "stream",
     "text": [
      "31\n"
     ]
    },
    {
     "name": "stderr",
     "output_type": "stream",
     "text": [
      "\n"
     ]
    }
   ],
   "source": [
    "emb_mat, token2id, config['vocab_size'] = get_embedding(vocab)\n",
    "print(token2id['你'])"
   ]
  },
  {
   "cell_type": "code",
   "execution_count": 67,
   "metadata": {},
   "outputs": [],
   "source": [
    "def tokenizer(sent, token2id):\n",
    "    ids = [token2id.get(token, 1) for token in jieba.cut(sent)]\n",
    "    return ids"
   ]
  },
  {
   "cell_type": "code",
   "execution_count": 68,
   "metadata": {},
   "outputs": [],
   "source": [
    "import pandas as pd\n",
    "from collections import defaultdict\n",
    "def read_data(config, token2id, mode='train'):\n",
    "    data_df = pd.read_csv(config[f'{mode}_file_path'], sep=',')\n",
    "    if mode == 'train':\n",
    "        X_train, y_train = defaultdict(list), []\n",
    "        X_val, y_val = defaultdict(list), []\n",
    "        num_val = int(config['train_val_ratio'] * len(data_df))\n",
    "    \n",
    "    else:\n",
    "        X_test, y_test = defaultdict(list), []\n",
    "\n",
    "    for i, row in tqdm(data_df.iterrows(), desc=f'Preprocesing {mode} data', total=len(data_df)):\n",
    "        label=row[1] if mode == 'train' else 0\n",
    "        sentence = row[-1]\n",
    "        inputs = tokenizer(sentence, token2id)\n",
    "        if mode == 'train':\n",
    "            if i < num_val:\n",
    "                X_val['input_ids'].append(inputs)\n",
    "                y_val.append(label)\n",
    "            else:\n",
    "                X_train['input_ids'].append(inputs)\n",
    "                y_train.append(label)\n",
    "        \n",
    "        else:\n",
    "            X_test['input_ids'].append(inputs)\n",
    "            y_test.append(label)\n",
    "\n",
    "    if mode == 'train':\n",
    "        label2id = {label: i for i, label in enumerate(np.unique(y_train))}\n",
    "        id2label = {i: label for label, i in label2id.items()}\n",
    "\n",
    "        y_train = torch.tensor([label2id[label] for label in y_train], dtype=torch.long)\n",
    "        y_val = torch.tensor([label2id[label] for label in y_val], dtype=torch.long)\n",
    "\n",
    "        return X_train, y_train, X_val, y_val, label2id, id2label\n",
    "    \n",
    "    else:\n",
    "        y_test = torch.tensor(y_test, dtype=torch.long)\n",
    "        return X_test, y_test"
   ]
  },
  {
   "cell_type": "code",
   "execution_count": 69,
   "metadata": {},
   "outputs": [
    {
     "name": "stderr",
     "output_type": "stream",
     "text": [
      "Preprocesing train data: 100%|█████████████████████████████████████████████████████████████████████████████████████████████████| 53360/53360 [00:09<00:00, 5579.08it/s]\n",
      "Preprocesing test data: 100%|██████████████████████████████████████████████████████████████████████████████████████████████████| 10000/10000 [00:01<00:00, 5732.21it/s]\n"
     ]
    }
   ],
   "source": [
    "X_train, y_train, X_val, y_val, label2id, id2label = read_data(config, token2id, mode='train')\n",
    "X_test, y_test = read_data(config, token2id, mode='test')"
   ]
  },
  {
   "cell_type": "code",
   "execution_count": 70,
   "metadata": {},
   "outputs": [],
   "source": [
    "from torch.utils.data import Dataset\n",
    "class TNEWSDataset(Dataset):\n",
    "    def __init__(self, X, y):\n",
    "        self.x = X\n",
    "        self.y = y\n",
    "\n",
    "    def __getitem__(self, idx):\n",
    "        return {\n",
    "            'input_ids': self.x['input_ids'][idx],\n",
    "            'label': self.y[idx]\n",
    "        }\n",
    "    \n",
    "    def __len__(self):\n",
    "        return self.y.size(0)"
   ]
  },
  {
   "cell_type": "code",
   "execution_count": 71,
   "metadata": {},
   "outputs": [],
   "source": [
    "def collete_fn(examples):\n",
    "    input_ids_list =[]\n",
    "    labels = []\n",
    "    for example in examples:\n",
    "        input_ids_list.append(example['input_ids'])\n",
    "        labels.append(example['label'])\n",
    "    \n",
    "    # 1.找到 input_ids_list 中最长的句子\n",
    "    max_length = max(len(input_ids) for input_ids in input_ids_list)\n",
    "\n",
    "    # 2. 定义一个Tensor\n",
    "    input_ids_tensor = torch.zeros((len(labels), max_length), dtype=torch.long)\n",
    "\n",
    "    for i, input_ids in enumerate(input_ids_list):\n",
    "        # 3.得到当前句子长度\n",
    "        seq_len = len(input_ids)\n",
    "        input_ids_tensor[i, :seq_len] = torch.tensor(input_ids, dtype=torch.long)\n",
    "\n",
    "    return {\n",
    "        'input_ids': input_ids_tensor,\n",
    "        'label': torch.tensor(labels, dtype=torch.long)\n",
    "    }"
   ]
  },
  {
   "cell_type": "code",
   "execution_count": 72,
   "metadata": {},
   "outputs": [],
   "source": [
    "from torch.utils.data import DataLoader\n",
    "\n",
    "def build_dataloader(config, vocab):\n",
    "    X_train, y_train, X_val, y_val, label2id, id2label = read_data(config, token2id, mode='train')\n",
    "    X_test, y_test = read_data(config, token2id, mode='test')\n",
    "\n",
    "    train_dataset = TNEWSDataset(X_train, y_train)\n",
    "    val_dataset = TNEWSDataset(X_val, y_val)\n",
    "    test_dataset = TNEWSDataset(X_test, y_test)\n",
    "    \n",
    "    train_dataloader = DataLoader(dataset=train_dataset, batch_size=config['batch_size'], num_workers=4, shuffle=True, collate_fn=collete_fn)\n",
    "    val_dataloader = DataLoader(dataset=val_dataset, batch_size=config['batch_size'], num_workers=4, shuffle=False, collate_fn=collete_fn)\n",
    "    test_dataloader = DataLoader(dataset=test_dataset, batch_size=config['batch_size'], num_workers=4, shuffle=False, collate_fn=collete_fn)\n",
    "\n",
    "    return id2label, train_dataloader, val_dataloader, test_dataloader"
   ]
  },
  {
   "cell_type": "code",
   "execution_count": 73,
   "metadata": {},
   "outputs": [
    {
     "name": "stderr",
     "output_type": "stream",
     "text": [
      "Preprocesing train data: 100%|█████████████████████████████████████████████████████████████████████████████████████████████████| 53360/53360 [00:09<00:00, 5628.92it/s]\n",
      "Preprocesing test data: 100%|██████████████████████████████████████████████████████████████████████████████████████████████████| 10000/10000 [00:01<00:00, 5748.83it/s]\n"
     ]
    }
   ],
   "source": [
    "id2label, train_dataloader, val_dataloader, test_dataloader = build_dataloader(config, vocab)"
   ]
  },
  {
   "cell_type": "code",
   "execution_count": 40,
   "metadata": {},
   "outputs": [
    {
     "name": "stdout",
     "output_type": "stream",
     "text": [
      "64\n",
      "{'input_ids': tensor([[ 2956,    19,  9918,  ...,     0,     0,     0],\n",
      "        [ 3552,     1,  3111,  ...,     0,     0,     0],\n",
      "        [17870,     1,  6017,  ...,     0,     0,     0],\n",
      "        ...,\n",
      "        [10721,   780,  8378,  ...,     0,     0,     0],\n",
      "        [   16, 12265,   770,  ...,     0,     0,     0],\n",
      "        [24386,  3763,  4647,  ...,     0,     0,     0]]), 'label': tensor([ 2,  4,  1,  7, 14,  3,  3,  2, 14,  3,  6,  2,  2,  8, 14,  8,  8, 14,\n",
      "         1, 14, 13, 14, 14, 10,  4,  6, 13, 11, 11,  1,  7,  6,  8, 10,  2,  9,\n",
      "        13,  4,  3,  1,  3,  7,  7, 14,  6,  9,  4,  9, 10, 13, 10,  8, 14,  4,\n",
      "         9, 11,  5,  8,  6,  1,  8, 13, 10, 11])}\n"
     ]
    }
   ],
   "source": [
    "for batch in train_dataloader:\n",
    "    print(len(batch['input_ids']))\n",
    "    print(batch)\n",
    "    break"
   ]
  },
  {
   "cell_type": "code",
   "execution_count": 74,
   "metadata": {},
   "outputs": [],
   "source": [
    "model_config = {\n",
    "    'embedding_pretrained' : emb_mat,\n",
    "    'num_filters' : 256,\n",
    "    'emb_size' : emb_mat.shape[1],\n",
    "    'dropout' : 0.3,\n",
    "    'filter_sizes' : [2,3,5],\n",
    "    'num_classes' : len(label2id)\n",
    "}"
   ]
  },
  {
   "cell_type": "code",
   "execution_count": 75,
   "metadata": {},
   "outputs": [],
   "source": [
    "import torch.nn.functional as F\n",
    "class Model(nn.Module):\n",
    "    def __init__(self, config):\n",
    "        super(Model, self).__init__()\n",
    "\n",
    "        self.embedding = nn.Embedding.from_pretrained(config['embedding_pretrained'], freeze=True)\n",
    "\n",
    "        self.convs = nn.ModuleList([nn.Conv2d(1, config['num_filters'], (k, config['emb_size'])) for k in config['filter_sizes']])\n",
    "\n",
    "        self.dropout = nn.Dropout(config['dropout'])\n",
    "\n",
    "        # 变换维度，得到logits\n",
    "        self.fc = nn.Linear(len(config['filter_sizes'] * config['num_filters']), config['num_classes'])\n",
    "\n",
    "    def convs_and_pool(self, x, conv):\n",
    "\n",
    "        # x [batch_size, out_channels, seq_len_out, 1]\n",
    "        # x [batch_size, out_channels, seq_len_out]\n",
    "        x = F.relu(conv(x)).squeeze(3)\n",
    "\n",
    "        # x (batch_size, out_channels, 1)\n",
    "        # x (batch_size, out_channels)\n",
    "        x = F.max_pool1d(x, x.size(2)).squeeze(2)\n",
    "        return x\n",
    "\n",
    "    def forward(self, input_ids=None, label=None):\n",
    "        # out [batch_size, seq_len, embedding_dim]\n",
    "        out = self.embedding(input_ids)\n",
    "        \n",
    "        # H: seq_len; W:embedding_dim\n",
    "        # out [batch_size, 1, seq_len, embedding_dim]\n",
    "        out = out.unsqueeze(1)\n",
    "\n",
    "        # (batch_size, out_channels)\n",
    "        out = torch.cat([self.convs_and_pool(out, conv) for conv in self.convs], 1)\n",
    "\n",
    "        out = self.dropout(out)\n",
    "\n",
    "        out = self.fc(out)\n",
    "\n",
    "        output = (out, )\n",
    "\n",
    "        if label is not None: # 训练集用\n",
    "            loss_fct = nn.CrossEntropyLoss()\n",
    "            loss = loss_fct(out, label)\n",
    "            output = (loss, ) + output\n",
    "\n",
    "        # train output (loss, out)\n",
    "        # test output (out)\n",
    "        return output"
   ]
  },
  {
   "cell_type": "code",
   "execution_count": 76,
   "metadata": {},
   "outputs": [],
   "source": [
    "model = Model(model_config)"
   ]
  },
  {
   "cell_type": "code",
   "execution_count": 77,
   "metadata": {},
   "outputs": [],
   "source": [
    "from sklearn.metrics import f1_score\n",
    "def evaluation(config, model, val_dataloader):\n",
    "    model.eval()\n",
    "    preds = []\n",
    "    labels = []\n",
    "    val_loss =0.\n",
    "    val_iterator = tqdm(val_dataloader, desc='Evaluation', total=len(val_dataloader))\n",
    "    with torch.no_grad():\n",
    "        for batch in val_iterator:\n",
    "            labels.append(batch['label'])\n",
    "            batch = {item: value.to(config['device']) for item, value in batch.items()}\n",
    "\n",
    "            # val output (loss, out)\n",
    "            loss, logits = model(**batch)[:2]\n",
    "            val_loss += loss.item()\n",
    "\n",
    "            preds.append(logits.argmax(dim=-1).detach().cpu())\n",
    "    \n",
    "    avg_val_loss = val_loss/len(val_dataloader)\n",
    "    labels = torch.cat(labels, dim=0).numpy()\n",
    "    preds = torch.cat(preds, dim=0).numpy()\n",
    "\n",
    "    f1 = f1_score(labels, preds, average='macro')\n",
    "    return avg_val_loss, f1\n",
    "            "
   ]
  },
  {
   "cell_type": "code",
   "execution_count": 78,
   "metadata": {},
   "outputs": [],
   "source": [
    "from torch.optim import AdamW\n",
    "from tqdm import trange\n",
    "def train(model, config, id2label, train_dataloader, val_dataloader):\n",
    "    optimizer = AdamW(model.parameters(), lr=config['learning_rate'])\n",
    "    model.to(config['device'])\n",
    "    epoches_iterator = trange(config['num_epochs'])\n",
    "    \n",
    "    # 1 epoch * 200个 batch * 10 = global_step\n",
    "    global_step = 0\n",
    "    train_loss = 0.\n",
    "    logging_loss = 0.\n",
    "\n",
    "    for epoch in epoches_iterator:\n",
    "        train_iterator = tqdm(train_dataloader, desc='Training', total=len(train_dataloader))\n",
    "        model.train()\n",
    "        for batch in train_iterator:\n",
    "            batch = {item: value.to(config['device']) for item, value in batch.items()}\n",
    "\n",
    "            # train output (loss, out)\n",
    "            loss = model(**batch)[0]\n",
    "\n",
    "            model.zero_grad()\n",
    "            loss.backward()\n",
    "            optimizer.step()\n",
    "            train_loss += loss\n",
    "            global_step += 1\n",
    "\n",
    "            if global_step % config['logging_step'] == 0:\n",
    "                print_train_loss = (train_loss - logging_loss) / config['logging_step']\n",
    "                logging_loss = train_loss\n",
    "\n",
    "                avg_val_loss, f1 = evaluation(config, model, val_dataloader)\n",
    "                print_log = f'>>> training loss: {print_train_loss:.4f}, valid loss: {avg_val_loss:.4f}, valid f1 score: {f1:.4f}'\n",
    "                print(print_log)\n",
    "                model.train()\n",
    "\n",
    "    return model"
   ]
  },
  {
   "cell_type": "code",
   "execution_count": 79,
   "metadata": {},
   "outputs": [
    {
     "name": "stderr",
     "output_type": "stream",
     "text": [
      "  0%|                                                                                                                                           | 0/10 [00:00<?, ?it/s]\n",
      "Training:   0%|                                                                                                                                | 0/751 [00:00<?, ?it/s]\u001b[A\n",
      "Training:   0%|▏                                                                                                                       | 1/751 [00:00<03:52,  3.23it/s]\u001b[A\n",
      "Training:   2%|██▌                                                                                                                    | 16/751 [00:00<00:14, 49.09it/s]\u001b[A\n",
      "Training:   4%|█████                                                                                                                  | 32/751 [00:00<00:08, 82.60it/s]\u001b[A\n",
      "Training:   7%|████████                                                                                                              | 51/751 [00:00<00:06, 113.38it/s]\u001b[A\n",
      "Training:   9%|██████████▊                                                                                                           | 69/751 [00:00<00:05, 132.33it/s]\u001b[A\n",
      "Training:  12%|█████████████▋                                                                                                        | 87/751 [00:00<00:04, 146.11it/s]\u001b[A\n",
      "Training:  14%|████████████████▋                                                                                                    | 107/751 [00:00<00:04, 160.92it/s]\u001b[A\n",
      "Training:  17%|████████████████████                                                                                                 | 129/751 [00:01<00:03, 176.67it/s]\u001b[A\n",
      "Training:  20%|███████████████████████▌                                                                                             | 151/751 [00:01<00:03, 188.01it/s]\u001b[A\n",
      "Training:  23%|██████████████████████████▉                                                                                          | 173/751 [00:01<00:02, 196.04it/s]\u001b[A\n",
      "Training:  26%|██████████████████████████████▍                                                                                      | 195/751 [00:01<00:02, 200.99it/s]\u001b[A\n",
      "Training:  29%|█████████████████████████████████▊                                                                                   | 217/751 [00:01<00:02, 204.06it/s]\u001b[A\n",
      "Training:  32%|█████████████████████████████████████                                                                                | 238/751 [00:01<00:02, 205.63it/s]\u001b[A\n",
      "Training:  35%|████████████████████████████████████████▌                                                                            | 260/751 [00:01<00:02, 208.34it/s]\u001b[A\n",
      "Training:  37%|███████████████████████████████████████████▊                                                                         | 281/751 [00:01<00:02, 208.60it/s]\u001b[A\n",
      "\n",
      "Evaluation:   0%|                                                                                                                               | 0/84 [00:00<?, ?it/s]\u001b[A\u001b[A\n",
      "\n",
      "Evaluation:   1%|█▍                                                                                                                     | 1/84 [00:00<00:17,  4.65it/s]\u001b[A\u001b[A\n",
      "\n",
      "Evaluation: 100%|█████████████████████████████████████████████████████████████████████████████████████████████████████████████████████| 84/84 [00:00<00:00, 175.86it/s]\u001b[A\u001b[A\n",
      "\n",
      "Training:  40%|███████████████████████████████████████████████▍                                                                      | 302/751 [00:02<00:05, 85.04it/s]\u001b[A\n",
      "Training:  43%|██████████████████████████████████████████████████▎                                                                  | 323/751 [00:02<00:04, 103.20it/s]\u001b[A"
     ]
    },
    {
     "name": "stdout",
     "output_type": "stream",
     "text": [
      ">>> training loss: 1.6934, valid loss: 1.4309, valid f1 score: 0.4808\n"
     ]
    },
    {
     "name": "stderr",
     "output_type": "stream",
     "text": [
      "\n",
      "Training:  46%|█████████████████████████████████████████████████████▋                                                               | 345/751 [00:02<00:03, 122.56it/s]\u001b[A\n",
      "Training:  49%|█████████████████████████████████████████████████████████▏                                                           | 367/751 [00:02<00:02, 141.06it/s]\u001b[A\n",
      "Training:  52%|█████████████████████████████████████████████████████████████                                                        | 392/751 [00:02<00:02, 163.47it/s]\u001b[A\n",
      "Training:  56%|████████████████████████████████████████████████████████████████▉                                                    | 417/751 [00:02<00:01, 182.28it/s]\u001b[A\n",
      "Training:  59%|████████████████████████████████████████████████████████████████████▊                                                | 442/751 [00:02<00:01, 197.70it/s]\u001b[A\n",
      "Training:  62%|████████████████████████████████████████████████████████████████████████▊                                            | 467/751 [00:03<00:01, 209.76it/s]\u001b[A\n",
      "Training:  66%|████████████████████████████████████████████████████████████████████████████▋                                        | 492/751 [00:03<00:01, 218.92it/s]\u001b[A\n",
      "Training:  69%|████████████████████████████████████████████████████████████████████████████████▌                                    | 517/751 [00:03<00:01, 225.52it/s]\u001b[A\n",
      "Training:  72%|████████████████████████████████████████████████████████████████████████████████████▍                                | 542/751 [00:03<00:00, 231.53it/s]\u001b[A\n",
      "Training:  76%|████████████████████████████████████████████████████████████████████████████████████████▍                            | 568/751 [00:03<00:00, 237.26it/s]\u001b[A\n",
      "Training:  79%|████████████████████████████████████████████████████████████████████████████████████████████▍                        | 593/751 [00:03<00:00, 240.82it/s]\u001b[A\n",
      "\n",
      "Evaluation:   0%|                                                                                                                               | 0/84 [00:00<?, ?it/s]\u001b[A\u001b[A\n",
      "\n",
      "Evaluation:   1%|█▍                                                                                                                     | 1/84 [00:00<00:17,  4.62it/s]\u001b[A\u001b[A\n",
      "\n",
      "Evaluation:  50%|██████████████████████████████████████████████████████████▌                                                          | 42/84 [00:00<00:00, 165.63it/s]\u001b[A\u001b[A\n",
      "\n",
      "Evaluation: 100%|█████████████████████████████████████████████████████████████████████████████████████████████████████████████████████| 84/84 [00:00<00:00, 163.78it/s]\u001b[A\u001b[A\n",
      "\n",
      "Training:  82%|█████████████████████████████████████████████████████████████████████████████████████████████████                     | 618/751 [00:04<00:01, 93.06it/s]\u001b[A"
     ]
    },
    {
     "name": "stdout",
     "output_type": "stream",
     "text": [
      ">>> training loss: 0.0000, valid loss: 1.4249, valid f1 score: 0.4893\n"
     ]
    },
    {
     "name": "stderr",
     "output_type": "stream",
     "text": [
      "\n",
      "Training:  85%|███████████████████████████████████████████████████████████████████████████████████████████████████▌                 | 639/751 [00:04<00:01, 108.59it/s]\u001b[A\n",
      "Training:  88%|███████████████████████████████████████████████████████████████████████████████████████████████████████▎             | 663/751 [00:04<00:00, 129.79it/s]\u001b[A\n",
      "Training:  91%|███████████████████████████████████████████████████████████████████████████████████████████████████████████          | 687/751 [00:04<00:00, 150.34it/s]\u001b[A\n",
      "Training:  95%|██████████████████████████████████████████████████████████████████████████████████████████████████████████████▊      | 711/751 [00:04<00:00, 169.30it/s]\u001b[A\n",
      "Training: 100%|█████████████████████████████████████████████████████████████████████████████████████████████████████████████████████| 751/751 [00:04<00:00, 152.59it/s]\u001b[A\n",
      " 10%|█████████████                                                                                                                      | 1/10 [00:04<00:44,  4.93s/it]\n",
      "Training:   0%|                                                                                                                                | 0/751 [00:00<?, ?it/s]\u001b[A\n",
      "Training:   0%|▏                                                                                                                       | 1/751 [00:00<03:39,  3.42it/s]\u001b[A\n",
      "Training:   2%|██▊                                                                                                                    | 18/751 [00:00<00:12, 57.85it/s]\u001b[A\n",
      "Training:   5%|█████▋                                                                                                                 | 36/751 [00:00<00:07, 94.76it/s]\u001b[A\n",
      "Training:   7%|████████▏                                                                                                             | 52/751 [00:00<00:06, 113.09it/s]\u001b[A\n",
      "Training:   9%|██████████▊                                                                                                           | 69/751 [00:00<00:05, 129.92it/s]\u001b[A\n",
      "Training:  11%|█████████████▎                                                                                                        | 85/751 [00:00<00:04, 136.84it/s]\u001b[A\n",
      "Training:  13%|███████████████▋                                                                                                     | 101/751 [00:00<00:04, 142.27it/s]\u001b[A\n",
      "Training:  16%|██████████████████▊                                                                                                  | 121/751 [00:01<00:04, 157.41it/s]\u001b[A\n",
      "Training:  19%|█████████████████████▉                                                                                               | 141/751 [00:01<00:03, 167.76it/s]\u001b[A\n",
      "\n",
      "Evaluation:   0%|                                                                                                                               | 0/84 [00:00<?, ?it/s]\u001b[A\u001b[A\n",
      "\n",
      "Evaluation:   1%|█▍                                                                                                                     | 1/84 [00:00<00:22,  3.65it/s]\u001b[A\u001b[A\n",
      "\n",
      "Evaluation:  51%|███████████████████████████████████████████████████████████▉                                                         | 43/84 [00:00<00:00, 146.22it/s]\u001b[A\u001b[A\n",
      "\n",
      "Evaluation: 100%|█████████████████████████████████████████████████████████████████████████████████████████████████████████████████████| 84/84 [00:00<00:00, 146.48it/s]\u001b[A\u001b[A\n",
      "\n",
      "Training:  21%|████████████████████████▉                                                                                             | 159/751 [00:01<00:09, 62.75it/s]\u001b[A\n",
      "Training:  24%|████████████████████████████▏                                                                                         | 179/751 [00:01<00:07, 80.66it/s]\u001b[A"
     ]
    },
    {
     "name": "stdout",
     "output_type": "stream",
     "text": [
      ">>> training loss: 0.0000, valid loss: 1.3763, valid f1 score: 0.5079\n"
     ]
    },
    {
     "name": "stderr",
     "output_type": "stream",
     "text": [
      "\n",
      "Training:  26%|██████████████████████████████▍                                                                                       | 194/751 [00:02<00:06, 91.52it/s]\u001b[A\n",
      "Training:  28%|█████████████████████████████████                                                                                    | 212/751 [00:02<00:05, 107.35it/s]\u001b[A\n",
      "Training:  31%|███████████████████████████████████▊                                                                                 | 230/751 [00:02<00:04, 121.62it/s]\u001b[A\n",
      "Training:  33%|██████████████████████████████████████▋                                                                              | 248/751 [00:02<00:03, 134.77it/s]\u001b[A\n",
      "Training:  35%|█████████████████████████████████████████▍                                                                           | 266/751 [00:02<00:03, 144.38it/s]\u001b[A\n",
      "Training:  38%|████████████████████████████████████████████                                                                         | 283/751 [00:02<00:03, 143.82it/s]\u001b[A\n",
      "Training:  40%|██████████████████████████████████████████████▋                                                                      | 300/751 [00:02<00:03, 138.58it/s]\u001b[A\n",
      "Training:  42%|█████████████████████████████████████████████████▏                                                                   | 316/751 [00:02<00:03, 133.71it/s]\u001b[A\n",
      "Training:  44%|███████████████████████████████████████████████████▌                                                                 | 331/751 [00:02<00:03, 128.29it/s]\u001b[A\n",
      "Training:  46%|█████████████████████████████████████████████████████▋                                                               | 345/751 [00:03<00:03, 127.05it/s]\u001b[A\n",
      "Training:  48%|███████████████████████████████████████████████████████▉                                                             | 359/751 [00:03<00:03, 127.84it/s]\u001b[A\n",
      "Training:  50%|██████████████████████████████████████████████████████████                                                           | 373/751 [00:03<00:02, 131.04it/s]\u001b[A\n",
      "Training:  52%|████████████████████████████████████████████████████████████▌                                                        | 389/751 [00:03<00:02, 136.47it/s]\u001b[A\n",
      "Training:  54%|██████████████████████████████████████████████████████████████▊                                                      | 403/751 [00:03<00:02, 134.19it/s]\u001b[A\n",
      "Training:  56%|████████████████████████████████████████████████████████████████▉                                                    | 417/751 [00:03<00:02, 129.45it/s]\u001b[A\n",
      "Training:  57%|███████████████████████████████████████████████████████████████████▏                                                 | 431/751 [00:03<00:02, 127.36it/s]\u001b[A\n",
      "Training:  59%|█████████████████████████████████████████████████████████████████████▏                                               | 444/751 [00:03<00:02, 125.77it/s]\u001b[A\n",
      "\n",
      "Evaluation:   0%|                                                                                                                               | 0/84 [00:00<?, ?it/s]\u001b[A\u001b[A\n",
      "\n",
      "Evaluation:   1%|█▍                                                                                                                     | 1/84 [00:00<00:27,  3.06it/s]\u001b[A\u001b[A\n",
      "\n",
      "Evaluation:  42%|████████████████████████████████████████████████▊                                                                    | 35/84 [00:00<00:00, 104.84it/s]\u001b[A\u001b[A\n",
      "\n",
      "Evaluation: 100%|█████████████████████████████████████████████████████████████████████████████████████████████████████████████████████| 84/84 [00:00<00:00, 124.78it/s]\u001b[A\u001b[A\n",
      "\n",
      "Training:  61%|███████████████████████████████████████████████████████████████████████▊                                              | 457/751 [00:04<00:06, 43.65it/s]\u001b[A\n",
      "Training:  63%|██████████████████████████████████████████████████████████████████████████▏                                           | 472/751 [00:04<00:04, 56.26it/s]\u001b[A"
     ]
    },
    {
     "name": "stdout",
     "output_type": "stream",
     "text": [
      ">>> training loss: 0.0000, valid loss: 1.3859, valid f1 score: 0.4763\n"
     ]
    },
    {
     "name": "stderr",
     "output_type": "stream",
     "text": [
      "\n",
      "Training:  65%|████████████████████████████████████████████████████████████████████████████▋                                         | 488/751 [00:04<00:03, 71.02it/s]\u001b[A\n",
      "Training:  67%|██████████████████████████████████████████████████████████████████████████████▋                                       | 501/751 [00:04<00:03, 80.98it/s]\u001b[A\n",
      "Training:  68%|████████████████████████████████████████████████████████████████████████████████▊                                     | 514/751 [00:05<00:02, 89.75it/s]\u001b[A\n",
      "Training:  70%|██████████████████████████████████████████████████████████████████████████████████▉                                   | 528/751 [00:05<00:02, 99.07it/s]\u001b[A\n",
      "Training:  72%|████████████████████████████████████████████████████████████████████████████████████▎                                | 541/751 [00:05<00:02, 104.44it/s]\u001b[A\n",
      "Training:  74%|██████████████████████████████████████████████████████████████████████████████████████▎                              | 554/751 [00:05<00:01, 109.14it/s]\u001b[A\n",
      "Training:  75%|████████████████████████████████████████████████████████████████████████████████████████▎                            | 567/751 [00:05<00:01, 112.18it/s]\u001b[A\n",
      "Training:  77%|██████████████████████████████████████████████████████████████████████████████████████████▎                          | 580/751 [00:05<00:01, 114.33it/s]\u001b[A\n",
      "Training:  79%|████████████████████████████████████████████████████████████████████████████████████████████▍                        | 593/751 [00:05<00:01, 114.37it/s]\u001b[A\n",
      "Training:  81%|██████████████████████████████████████████████████████████████████████████████████████████████▍                      | 606/751 [00:05<00:01, 116.68it/s]\u001b[A\n",
      "Training:  82%|████████████████████████████████████████████████████████████████████████████████████████████████▍                    | 619/751 [00:05<00:01, 117.21it/s]\u001b[A\n",
      "Training:  84%|██████████████████████████████████████████████████████████████████████████████████████████████████▌                  | 633/751 [00:05<00:00, 120.84it/s]\u001b[A\n",
      "Training:  86%|████████████████████████████████████████████████████████████████████████████████████████████████████▋                | 646/751 [00:06<00:00, 120.77it/s]\u001b[A\n",
      "Training:  88%|██████████████████████████████████████████████████████████████████████████████████████████████████████▋              | 659/751 [00:06<00:00, 122.41it/s]\u001b[A\n",
      "Training:  90%|█████████████████████████████████████████████████████████████████████████████████████████████████████████            | 674/751 [00:06<00:00, 128.18it/s]\u001b[A\n",
      "Training:  92%|███████████████████████████████████████████████████████████████████████████████████████████████████████████▍         | 690/751 [00:06<00:00, 136.20it/s]\u001b[A\n",
      "Training:  94%|██████████████████████████████████████████████████████████████████████████████████████████████████████████████▏      | 707/751 [00:06<00:00, 143.63it/s]\u001b[A\n",
      "Training:  96%|████████████████████████████████████████████████████████████████████████████████████████████████████████████████▍    | 722/751 [00:06<00:00, 143.23it/s]\u001b[A\n",
      "Training:  98%|██████████████████████████████████████████████████████████████████████████████████████████████████████████████████▊  | 737/751 [00:06<00:00, 136.64it/s]\u001b[A\n",
      "\n",
      "Evaluation:   0%|                                                                                                                               | 0/84 [00:00<?, ?it/s]\u001b[A\u001b[A\n",
      "\n",
      "Evaluation:   1%|█▍                                                                                                                     | 1/84 [00:00<00:24,  3.46it/s]\u001b[A\u001b[A\n",
      "\n",
      "Evaluation:  44%|███████████████████████████████████████████████████▌                                                                 | 37/84 [00:00<00:00, 120.48it/s]\u001b[A\u001b[A\n",
      "\n",
      "Evaluation: 100%|█████████████████████████████████████████████████████████████████████████████████████████████████████████████████████| 84/84 [00:00<00:00, 141.00it/s]\u001b[A\u001b[A\n",
      "\n",
      "Training: 100%|██████████████████████████████████████████████████████████████████████████████████████████████████████████████████████| 751/751 [00:07<00:00, 99.20it/s]\u001b[A\n",
      " 20%|██████████████████████████▏                                                                                                        | 2/10 [00:12<00:51,  6.48s/it]"
     ]
    },
    {
     "name": "stdout",
     "output_type": "stream",
     "text": [
      ">>> training loss: 0.0000, valid loss: 1.3646, valid f1 score: 0.4949\n"
     ]
    },
    {
     "name": "stderr",
     "output_type": "stream",
     "text": [
      "\n",
      "Training:   0%|                                                                                                                                | 0/751 [00:00<?, ?it/s]\u001b[A\n",
      "Training:   0%|▏                                                                                                                       | 1/751 [00:00<03:39,  3.42it/s]\u001b[A\n",
      "Training:   3%|███▋                                                                                                                   | 23/751 [00:00<00:09, 73.54it/s]\u001b[A\n",
      "Training:   6%|███████                                                                                                               | 45/751 [00:00<00:05, 119.29it/s]\u001b[A\n",
      "Training:   9%|██████████▌                                                                                                           | 67/751 [00:00<00:04, 149.95it/s]\u001b[A\n",
      "Training:  12%|█████████████▉                                                                                                        | 89/751 [00:00<00:03, 169.88it/s]\u001b[A\n",
      "Training:  15%|████████████████▉                                                                                                    | 109/751 [00:00<00:03, 172.26it/s]\u001b[A\n",
      "Training:  17%|████████████████████▍                                                                                                | 131/751 [00:00<00:03, 185.03it/s]\u001b[A\n",
      "Training:  20%|███████████████████████▊                                                                                             | 153/751 [00:01<00:03, 194.44it/s]\u001b[A\n",
      "Training:  23%|███████████████████████████▎                                                                                         | 175/751 [00:01<00:02, 200.71it/s]\u001b[A\n",
      "Training:  26%|██████████████████████████████▋                                                                                      | 197/751 [00:01<00:02, 205.74it/s]\u001b[A\n",
      "Training:  29%|██████████████████████████████████                                                                                   | 219/751 [00:01<00:02, 209.30it/s]\u001b[A\n",
      "Training:  32%|█████████████████████████████████████▌                                                                               | 241/751 [00:01<00:02, 210.25it/s]\u001b[A\n",
      "Training:  35%|█████████████████████████████████████████▍                                                                           | 266/751 [00:01<00:02, 219.93it/s]\u001b[A\n",
      "Training:  39%|█████████████████████████████████████████████▍                                                                       | 292/751 [00:01<00:02, 229.22it/s]\u001b[A\n",
      "\n",
      "Evaluation:   0%|                                                                                                                               | 0/84 [00:00<?, ?it/s]\u001b[A\u001b[A\n",
      "\n",
      "Evaluation:   1%|█▍                                                                                                                     | 1/84 [00:00<00:18,  4.60it/s]\u001b[A\u001b[A\n",
      "\n",
      "Evaluation: 100%|█████████████████████████████████████████████████████████████████████████████████████████████████████████████████████| 84/84 [00:00<00:00, 161.60it/s]\u001b[A\u001b[A\n",
      "\n",
      "Training:  42%|█████████████████████████████████████████████████▋                                                                    | 316/751 [00:02<00:04, 88.78it/s]\u001b[A\n",
      "Training:  45%|████████████████████████████████████████████████████▋                                                                | 338/751 [00:02<00:03, 106.31it/s]\u001b[A"
     ]
    },
    {
     "name": "stdout",
     "output_type": "stream",
     "text": [
      ">>> training loss: 0.0000, valid loss: 1.3643, valid f1 score: 0.5057\n"
     ]
    },
    {
     "name": "stderr",
     "output_type": "stream",
     "text": [
      "\n",
      "Training:  48%|████████████████████████████████████████████████████████                                                             | 360/751 [00:02<00:03, 124.26it/s]\u001b[A\n",
      "Training:  51%|███████████████████████████████████████████████████████████▌                                                         | 382/751 [00:02<00:02, 141.48it/s]\u001b[A\n",
      "Training:  54%|███████████████████████████████████████████████████████████████                                                      | 405/751 [00:02<00:02, 159.11it/s]\u001b[A\n",
      "Training:  57%|██████████████████████████████████████████████████████████████████▎                                                  | 426/751 [00:02<00:01, 170.26it/s]\u001b[A\n",
      "Training:  60%|█████████████████████████████████████████████████████████████████████▋                                               | 447/751 [00:02<00:01, 174.97it/s]\u001b[A\n",
      "Training:  62%|████████████████████████████████████████████████████████████████████████▉                                            | 468/751 [00:03<00:01, 179.01it/s]\u001b[A\n",
      "Training:  65%|████████████████████████████████████████████████████████████████████████████                                         | 488/751 [00:03<00:01, 183.03it/s]\u001b[A\n",
      "Training:  68%|███████████████████████████████████████████████████████████████████████████████▏                                     | 508/751 [00:03<00:01, 186.07it/s]\u001b[A\n",
      "Training:  70%|██████████████████████████████████████████████████████████████████████████████████▎                                  | 528/751 [00:03<00:01, 188.39it/s]\u001b[A\n",
      "Training:  73%|█████████████████████████████████████████████████████████████████████████████████████▌                               | 549/751 [00:03<00:01, 193.42it/s]\u001b[A\n",
      "Training:  77%|█████████████████████████████████████████████████████████████████████████████████████████▌                           | 575/751 [00:03<00:00, 210.42it/s]\u001b[A\n",
      "\n",
      "Evaluation:   0%|                                                                                                                               | 0/84 [00:00<?, ?it/s]\u001b[A\u001b[A\n",
      "\n",
      "Evaluation:   1%|█▍                                                                                                                     | 1/84 [00:00<00:18,  4.59it/s]\u001b[A\u001b[A\n",
      "\n",
      "Evaluation:  42%|████████████████████████████████████████████████▊                                                                    | 35/84 [00:00<00:00, 136.20it/s]\u001b[A\u001b[A\n",
      "\n",
      "Evaluation: 100%|█████████████████████████████████████████████████████████████████████████████████████████████████████████████████████| 84/84 [00:00<00:00, 154.73it/s]\u001b[A\u001b[A\n",
      "\n",
      "Training:  80%|█████████████████████████████████████████████████████████████████████████████████████████████▉                        | 598/751 [00:04<00:01, 83.94it/s]\u001b[A\n",
      "Training:  82%|████████████████████████████████████████████████████████████████████████████████████████████████▉                     | 617/751 [00:04<00:01, 98.14it/s]\u001b[A"
     ]
    },
    {
     "name": "stdout",
     "output_type": "stream",
     "text": [
      ">>> training loss: 0.0000, valid loss: 1.3876, valid f1 score: 0.4952\n"
     ]
    },
    {
     "name": "stderr",
     "output_type": "stream",
     "text": [
      "\n",
      "Training:  85%|███████████████████████████████████████████████████████████████████████████████████████████████████▊                 | 641/751 [00:04<00:00, 121.26it/s]\u001b[A\n",
      "Training:  89%|███████████████████████████████████████████████████████████████████████████████████████████████████████▌             | 665/751 [00:04<00:00, 143.49it/s]\u001b[A\n",
      "Training:  92%|███████████████████████████████████████████████████████████████████████████████████████████████████████████▎         | 689/751 [00:04<00:00, 163.07it/s]\u001b[A\n",
      "Training:  95%|██████████████████████████████████████████████████████████████████████████████████████████████████████████████▉      | 712/751 [00:04<00:00, 177.98it/s]\u001b[A\n",
      "Training: 100%|█████████████████████████████████████████████████████████████████████████████████████████████████████████████████████| 751/751 [00:04<00:00, 151.55it/s]\u001b[A\n",
      " 30%|███████████████████████████████████████▎                                                                                           | 3/10 [00:17<00:40,  5.79s/it]\n",
      "Training:   0%|                                                                                                                                | 0/751 [00:00<?, ?it/s]\u001b[A\n",
      "Training:   0%|▏                                                                                                                       | 1/751 [00:00<03:22,  3.70it/s]\u001b[A\n",
      "Training:   3%|███▎                                                                                                                   | 21/751 [00:00<00:10, 70.42it/s]\u001b[A\n",
      "Training:   5%|█████▋                                                                                                                 | 36/751 [00:00<00:07, 95.84it/s]\u001b[A\n",
      "Training:   7%|███████▊                                                                                                              | 50/751 [00:00<00:06, 109.24it/s]\u001b[A\n",
      "Training:   9%|██████████                                                                                                            | 64/751 [00:00<00:05, 114.79it/s]\u001b[A\n",
      "Training:  10%|████████████▎                                                                                                         | 78/751 [00:00<00:05, 119.11it/s]\u001b[A\n",
      "Training:  12%|██████████████▎                                                                                                       | 91/751 [00:00<00:05, 119.84it/s]\u001b[A\n",
      "Training:  14%|████████████████▌                                                                                                    | 106/751 [00:01<00:05, 127.01it/s]\u001b[A\n",
      "Training:  16%|██████████████████▋                                                                                                  | 120/751 [00:01<00:04, 129.12it/s]\u001b[A\n",
      "Training:  18%|████████████████████▉                                                                                                | 134/751 [00:01<00:04, 126.45it/s]\u001b[A\n",
      "\n",
      "Evaluation:   0%|                                                                                                                               | 0/84 [00:00<?, ?it/s]\u001b[A\u001b[A\n",
      "\n",
      "Evaluation:   1%|█▍                                                                                                                     | 1/84 [00:00<00:26,  3.19it/s]\u001b[A\u001b[A\n",
      "\n",
      "Evaluation: 100%|█████████████████████████████████████████████████████████████████████████████████████████████████████████████████████| 84/84 [00:00<00:00, 139.80it/s]\u001b[A\u001b[A\n",
      "\n",
      "Training:  20%|███████████████████████                                                                                               | 147/751 [00:01<00:13, 46.01it/s]\u001b[A\n",
      "Training:  21%|█████████████████████████▏                                                                                            | 160/751 [00:02<00:10, 56.52it/s]\u001b[A"
     ]
    },
    {
     "name": "stdout",
     "output_type": "stream",
     "text": [
      ">>> training loss: 0.0000, valid loss: 1.4128, valid f1 score: 0.5061\n"
     ]
    },
    {
     "name": "stderr",
     "output_type": "stream",
     "text": [
      "\n",
      "Training:  23%|███████████████████████████▍                                                                                          | 175/751 [00:02<00:08, 70.62it/s]\u001b[A\n",
      "Training:  26%|██████████████████████████████▎                                                                                       | 193/751 [00:02<00:06, 89.41it/s]\u001b[A\n",
      "Training:  28%|████████████████████████████████▌                                                                                     | 207/751 [00:02<00:05, 96.49it/s]\u001b[A\n",
      "Training:  29%|██████████████████████████████████▎                                                                                  | 220/751 [00:02<00:05, 102.64it/s]\u001b[A\n",
      "Training:  31%|████████████████████████████████████▎                                                                                | 233/751 [00:02<00:04, 107.47it/s]\u001b[A\n",
      "Training:  33%|██████████████████████████████████████▎                                                                              | 246/751 [00:02<00:04, 111.45it/s]\u001b[A\n",
      "Training:  34%|████████████████████████████████████████▎                                                                            | 259/751 [00:02<00:04, 113.39it/s]\u001b[A\n",
      "Training:  36%|██████████████████████████████████████████▍                                                                          | 272/751 [00:02<00:04, 115.94it/s]\u001b[A\n",
      "Training:  38%|████████████████████████████████████████████▍                                                                        | 285/751 [00:03<00:04, 114.59it/s]\u001b[A\n",
      "Training:  40%|██████████████████████████████████████████████▎                                                                      | 297/751 [00:03<00:03, 114.56it/s]\u001b[A\n",
      "Training:  41%|████████████████████████████████████████████████▎                                                                    | 310/751 [00:03<00:03, 116.74it/s]\u001b[A\n",
      "Training:  43%|██████████████████████████████████████████████████▎                                                                  | 323/751 [00:03<00:03, 117.80it/s]\u001b[A\n",
      "Training:  45%|████████████████████████████████████████████████████▏                                                                | 335/751 [00:03<00:03, 116.19it/s]\u001b[A\n",
      "Training:  46%|██████████████████████████████████████████████████████                                                               | 347/751 [00:03<00:03, 115.36it/s]\u001b[A\n",
      "Training:  48%|███████████████████████████████████████████████████████▉                                                             | 359/751 [00:03<00:03, 115.09it/s]\u001b[A\n",
      "Training:  49%|█████████████████████████████████████████████████████████▊                                                           | 371/751 [00:03<00:03, 116.02it/s]\u001b[A\n",
      "Training:  51%|███████████████████████████████████████████████████████████▋                                                         | 383/751 [00:03<00:03, 116.57it/s]\u001b[A\n",
      "Training:  53%|█████████████████████████████████████████████████████████████▋                                                       | 396/751 [00:03<00:02, 118.70it/s]\u001b[A\n",
      "Training:  54%|███████████████████████████████████████████████████████████████▋                                                     | 409/751 [00:04<00:02, 120.56it/s]\u001b[A\n",
      "Training:  56%|█████████████████████████████████████████████████████████████████▋                                                   | 422/751 [00:04<00:02, 123.29it/s]\u001b[A\n",
      "Training:  58%|███████████████████████████████████████████████████████████████████▊                                                 | 435/751 [00:04<00:02, 123.49it/s]\u001b[A\n",
      "\n",
      "Evaluation:   0%|                                                                                                                               | 0/84 [00:00<?, ?it/s]\u001b[A\u001b[A\n",
      "\n",
      "Evaluation:   1%|█▍                                                                                                                     | 1/84 [00:00<00:24,  3.36it/s]\u001b[A\u001b[A\n",
      "\n",
      "Evaluation:  38%|████████████████████████████████████████████▌                                                                        | 32/84 [00:00<00:00, 102.66it/s]\u001b[A\u001b[A\n",
      "\n",
      "Evaluation: 100%|█████████████████████████████████████████████████████████████████████████████████████████████████████████████████████| 84/84 [00:00<00:00, 122.82it/s]\u001b[A\u001b[A\n",
      "\n",
      "Training:  60%|██████████████████████████████████████████████████████████████████████▍                                               | 448/751 [00:05<00:07, 41.00it/s]\u001b[A\n",
      "Training:  62%|████████████████████████████████████████████████████████████████████████▉                                             | 464/751 [00:05<00:05, 55.08it/s]\u001b[A"
     ]
    },
    {
     "name": "stdout",
     "output_type": "stream",
     "text": [
      ">>> training loss: 0.0000, valid loss: 1.4098, valid f1 score: 0.5029\n"
     ]
    },
    {
     "name": "stderr",
     "output_type": "stream",
     "text": [
      "\n",
      "Training:  64%|███████████████████████████████████████████████████████████████████████████▎                                          | 479/751 [00:05<00:03, 68.93it/s]\u001b[A\n",
      "Training:  66%|█████████████████████████████████████████████████████████████████████████████▌                                        | 494/751 [00:05<00:03, 82.57it/s]\u001b[A\n",
      "Training:  68%|███████████████████████████████████████████████████████████████████████████████▉                                     | 513/751 [00:05<00:02, 103.19it/s]\u001b[A\n",
      "Training:  71%|███████████████████████████████████████████████████████████████████████████████████                                  | 533/751 [00:05<00:01, 123.70it/s]\u001b[A\n",
      "Training:  74%|██████████████████████████████████████████████████████████████████████████████████████▎                              | 554/751 [00:05<00:01, 143.55it/s]\u001b[A\n",
      "Training:  77%|██████████████████████████████████████████████████████████████████████████████████████████                           | 578/751 [00:05<00:01, 167.75it/s]\u001b[A\n",
      "Training:  80%|█████████████████████████████████████████████████████████████████████████████████████████████▉                       | 603/751 [00:05<00:00, 187.86it/s]\u001b[A\n",
      "Training:  83%|█████████████████████████████████████████████████████████████████████████████████████████████████▋                   | 627/751 [00:06<00:00, 201.96it/s]\u001b[A\n",
      "Training:  87%|█████████████████████████████████████████████████████████████████████████████████████████████████████▌               | 652/751 [00:06<00:00, 213.78it/s]\u001b[A\n",
      "Training:  90%|█████████████████████████████████████████████████████████████████████████████████████████████████████████▏           | 675/751 [00:06<00:00, 217.13it/s]\u001b[A\n",
      "Training:  93%|████████████████████████████████████████████████████████████████████████████████████████████████████████████▋        | 698/751 [00:06<00:00, 212.94it/s]\u001b[A\n",
      "Training:  96%|████████████████████████████████████████████████████████████████████████████████████████████████████████████████▏    | 720/751 [00:06<00:00, 211.65it/s]\u001b[A\n",
      "Training:  99%|███████████████████████████████████████████████████████████████████████████████████████████████████████████████████▌ | 742/751 [00:06<00:00, 211.04it/s]\u001b[A\n",
      "\n",
      "Evaluation:   0%|                                                                                                                               | 0/84 [00:00<?, ?it/s]\u001b[A\u001b[A\n",
      "\n",
      "Evaluation:   1%|█▍                                                                                                                     | 1/84 [00:00<00:18,  4.57it/s]\u001b[A\u001b[A\n",
      "\n",
      "Evaluation:  43%|██████████████████████████████████████████████████▏                                                                  | 36/84 [00:00<00:00, 139.89it/s]\u001b[A\u001b[A\n",
      "\n",
      "Evaluation: 100%|█████████████████████████████████████████████████████████████████████████████████████████████████████████████████████| 84/84 [00:00<00:00, 153.72it/s]\u001b[A\u001b[A\n",
      "Training: 100%|█████████████████████████████████████████████████████████████████████████████████████████████████████████████████████| 751/751 [00:07<00:00, 103.70it/s]\n",
      " 40%|████████████████████████████████████████████████████▍                                                                              | 4/10 [00:24<00:38,  6.36s/it]"
     ]
    },
    {
     "name": "stdout",
     "output_type": "stream",
     "text": [
      ">>> training loss: 0.0000, valid loss: 1.4175, valid f1 score: 0.5119\n"
     ]
    },
    {
     "name": "stderr",
     "output_type": "stream",
     "text": [
      "\n",
      "Training:   0%|                                                                                                                                | 0/751 [00:00<?, ?it/s]\u001b[A\n",
      "Training:   0%|▏                                                                                                                       | 1/751 [00:00<03:33,  3.51it/s]\u001b[A\n",
      "Training:   3%|███▍                                                                                                                   | 22/751 [00:00<00:10, 72.05it/s]\u001b[A\n",
      "Training:   6%|██████▊                                                                                                               | 43/751 [00:00<00:06, 115.32it/s]\u001b[A\n",
      "Training:   9%|██████████                                                                                                            | 64/751 [00:00<00:04, 142.92it/s]\u001b[A\n",
      "Training:  11%|█████████████▎                                                                                                        | 85/751 [00:00<00:04, 161.53it/s]\u001b[A\n",
      "Training:  14%|████████████████▏                                                                                                    | 104/751 [00:00<00:03, 169.91it/s]\u001b[A\n",
      "Training:  17%|███████████████████▍                                                                                                 | 125/751 [00:00<00:03, 181.86it/s]\u001b[A\n",
      "Training:  20%|██████████████████████▉                                                                                              | 147/751 [00:01<00:03, 190.55it/s]\u001b[A\n",
      "Training:  23%|██████████████████████████▎                                                                                          | 169/751 [00:01<00:02, 196.63it/s]\u001b[A\n",
      "Training:  25%|█████████████████████████████▌                                                                                       | 190/751 [00:01<00:02, 200.52it/s]\u001b[A\n",
      "Training:  28%|████████████████████████████████▊                                                                                    | 211/751 [00:01<00:02, 203.03it/s]\u001b[A\n",
      "Training:  31%|████████████████████████████████████▏                                                                                | 232/751 [00:01<00:02, 189.85it/s]\u001b[A\n",
      "Training:  34%|███████████████████████████████████████▎                                                                             | 252/751 [00:01<00:02, 174.99it/s]\u001b[A\n",
      "Training:  36%|██████████████████████████████████████████                                                                           | 270/751 [00:01<00:02, 172.52it/s]\u001b[A\n",
      "Training:  38%|████████████████████████████████████████████▊                                                                        | 288/751 [00:01<00:02, 172.46it/s]\u001b[A\n",
      "\n",
      "Evaluation:   0%|                                                                                                                               | 0/84 [00:00<?, ?it/s]\u001b[A\u001b[A\n",
      "\n",
      "Evaluation:   1%|█▍                                                                                                                     | 1/84 [00:00<00:22,  3.76it/s]\u001b[A\u001b[A\n",
      "\n",
      "Evaluation:  46%|██████████████████████████████████████████████████████▎                                                              | 39/84 [00:00<00:00, 134.67it/s]\u001b[A\u001b[A\n",
      "\n",
      "Evaluation: 100%|█████████████████████████████████████████████████████████████████████████████████████████████████████████████████████| 84/84 [00:00<00:00, 144.07it/s]\u001b[A\u001b[A\n",
      "\n",
      "Training:  41%|████████████████████████████████████████████████                                                                      | 306/751 [00:02<00:06, 65.83it/s]\u001b[A\n",
      "Training:  44%|███████████████████████████████████████████████████▍                                                                  | 327/751 [00:02<00:05, 84.42it/s]\u001b[A"
     ]
    },
    {
     "name": "stdout",
     "output_type": "stream",
     "text": [
      ">>> training loss: 0.0000, valid loss: 1.4502, valid f1 score: 0.5116\n"
     ]
    },
    {
     "name": "stderr",
     "output_type": "stream",
     "text": [
      "\n",
      "Training:  46%|██████████████████████████████████████████████████████                                                                | 344/751 [00:02<00:04, 97.81it/s]\u001b[A\n",
      "Training:  48%|████████████████████████████████████████████████████████▏                                                            | 361/751 [00:02<00:03, 110.36it/s]\u001b[A\n",
      "Training:  51%|███████████████████████████████████████████████████████████▏                                                         | 380/751 [00:02<00:02, 126.20it/s]\u001b[A\n",
      "Training:  53%|█████████████████████████████████████████████████████████████▊                                                       | 397/751 [00:03<00:02, 131.50it/s]\u001b[A\n",
      "Training:  55%|████████████████████████████████████████████████████████████████▍                                                    | 414/751 [00:03<00:02, 137.49it/s]\u001b[A\n",
      "Training:  57%|██████████████████████████████████████████████████████████████████▉                                                  | 430/751 [00:03<00:02, 139.67it/s]\u001b[A\n",
      "Training:  60%|█████████████████████████████████████████████████████████████████████▉                                               | 449/751 [00:03<00:02, 150.80it/s]\u001b[A\n",
      "Training:  62%|█████████████████████████████████████████████████████████████████████████                                            | 469/751 [00:03<00:01, 162.24it/s]\u001b[A\n",
      "Training:  65%|████████████████████████████████████████████████████████████████████████████                                         | 488/751 [00:03<00:01, 168.84it/s]\u001b[A\n",
      "Training:  68%|███████████████████████████████████████████████████████████████████████████████▏                                     | 508/751 [00:03<00:01, 175.99it/s]\u001b[A\n",
      "Training:  70%|██████████████████████████████████████████████████████████████████████████████████                                   | 527/751 [00:03<00:01, 179.38it/s]\u001b[A\n",
      "Training:  73%|█████████████████████████████████████████████████████████████████████████████████████                                | 546/751 [00:03<00:01, 181.80it/s]\u001b[A\n",
      "Training:  75%|████████████████████████████████████████████████████████████████████████████████████████▏                            | 566/751 [00:03<00:01, 184.29it/s]\u001b[A\n",
      "Training:  78%|███████████████████████████████████████████████████████████████████████████████████████████▌                         | 588/751 [00:04<00:00, 193.32it/s]\u001b[A\n",
      "\n",
      "Evaluation:   0%|                                                                                                                               | 0/84 [00:00<?, ?it/s]\u001b[A\u001b[A\n",
      "\n",
      "Evaluation:   1%|█▍                                                                                                                     | 1/84 [00:00<00:18,  4.58it/s]\u001b[A\u001b[A\n",
      "\n",
      "Evaluation:  51%|███████████████████████████████████████████████████████████▉                                                         | 43/84 [00:00<00:00, 168.24it/s]\u001b[A\u001b[A\n",
      "\n",
      "Evaluation: 100%|█████████████████████████████████████████████████████████████████████████████████████████████████████████████████████| 84/84 [00:00<00:00, 163.88it/s]\u001b[A\u001b[A\n",
      "\n",
      "Training:  81%|███████████████████████████████████████████████████████████████████████████████████████████████▌                      | 608/751 [00:04<00:01, 78.69it/s]\u001b[A\n",
      "Training:  84%|██████████████████████████████████████████████████████████████████████████████████████████████████▊                  | 634/751 [00:04<00:01, 104.53it/s]\u001b[A"
     ]
    },
    {
     "name": "stdout",
     "output_type": "stream",
     "text": [
      ">>> training loss: 0.0000, valid loss: 1.4606, valid f1 score: 0.5054\n"
     ]
    },
    {
     "name": "stderr",
     "output_type": "stream",
     "text": [
      "\n",
      "Training:  88%|██████████████████████████████████████████████████████████████████████████████████████████████████████▊              | 660/751 [00:04<00:00, 130.30it/s]\u001b[A\n",
      "Training:  91%|██████████████████████████████████████████████████████████████████████████████████████████████████████████▊          | 686/751 [00:04<00:00, 154.82it/s]\u001b[A\n",
      "Training:  95%|██████████████████████████████████████████████████████████████████████████████████████████████████████████████▉      | 712/751 [00:05<00:00, 176.66it/s]\u001b[A\n",
      "Training: 100%|█████████████████████████████████████████████████████████████████████████████████████████████████████████████████████| 751/751 [00:05<00:00, 141.48it/s]\u001b[A\n",
      " 50%|█████████████████████████████████████████████████████████████████▌                                                                 | 5/10 [00:30<00:29,  5.99s/it]\n",
      "Training:   0%|                                                                                                                                | 0/751 [00:00<?, ?it/s]\u001b[A\n",
      "Training:   0%|▏                                                                                                                       | 1/751 [00:00<02:50,  4.39it/s]\u001b[A\n",
      "Training:   3%|███▏                                                                                                                   | 20/751 [00:00<00:09, 74.78it/s]\u001b[A\n",
      "Training:   5%|█████▋                                                                                                                | 36/751 [00:00<00:06, 104.23it/s]\u001b[A\n",
      "Training:   7%|████████▎                                                                                                             | 53/751 [00:00<00:05, 123.58it/s]\u001b[A\n",
      "Training:   9%|███████████▏                                                                                                          | 71/751 [00:00<00:04, 140.22it/s]\u001b[A\n",
      "Training:  12%|█████████████▋                                                                                                        | 87/751 [00:00<00:04, 141.26it/s]\u001b[A\n",
      "Training:  14%|████████████████▏                                                                                                    | 104/751 [00:00<00:04, 146.87it/s]\u001b[A\n",
      "Training:  16%|██████████████████▋                                                                                                  | 120/751 [00:00<00:04, 145.71it/s]\u001b[A\n",
      "Training:  18%|█████████████████████▏                                                                                               | 136/751 [00:01<00:04, 145.42it/s]\u001b[A\n",
      "\n",
      "Evaluation:   0%|                                                                                                                               | 0/84 [00:00<?, ?it/s]\u001b[A\u001b[A\n",
      "\n",
      "Evaluation:   1%|█▍                                                                                                                     | 1/84 [00:00<00:23,  3.57it/s]\u001b[A\u001b[A\n",
      "\n",
      "Evaluation:  43%|██████████████████████████████████████████████████▏                                                                  | 36/84 [00:00<00:00, 120.56it/s]\u001b[A\u001b[A\n",
      "\n",
      "Evaluation: 100%|█████████████████████████████████████████████████████████████████████████████████████████████████████████████████████| 84/84 [00:00<00:00, 135.83it/s]\u001b[A\u001b[A\n",
      "\n",
      "Training:  20%|███████████████████████▋                                                                                              | 151/751 [00:01<00:11, 52.57it/s]\u001b[A\n",
      "Training:  23%|██████████████████████████▌                                                                                           | 169/751 [00:01<00:08, 68.65it/s]\u001b[A"
     ]
    },
    {
     "name": "stdout",
     "output_type": "stream",
     "text": [
      ">>> training loss: 0.0000, valid loss: 1.5400, valid f1 score: 0.5036\n"
     ]
    },
    {
     "name": "stderr",
     "output_type": "stream",
     "text": [
      "\n",
      "Training:  25%|██████████████████████████████                                                                                        | 191/751 [00:02<00:06, 91.34it/s]\u001b[A\n",
      "Training:  28%|████████████████████████████████▋                                                                                    | 210/751 [00:02<00:04, 108.63it/s]\u001b[A\n",
      "Training:  30%|███████████████████████████████████▎                                                                                 | 227/751 [00:02<00:04, 121.04it/s]\u001b[A\n",
      "Training:  32%|██████████████████████████████████████                                                                               | 244/751 [00:02<00:03, 131.01it/s]\u001b[A\n",
      "Training:  35%|████████████████████████████████████████▉                                                                            | 263/751 [00:02<00:03, 143.57it/s]\u001b[A\n",
      "Training:  38%|███████████████████████████████████████████▉                                                                         | 282/751 [00:02<00:03, 153.23it/s]\u001b[A\n",
      "Training:  40%|███████████████████████████████████████████████                                                                      | 302/751 [00:02<00:02, 164.48it/s]\u001b[A\n",
      "Training:  43%|█████████████████████████████████████████████████▊                                                                   | 320/751 [00:02<00:02, 167.57it/s]\u001b[A\n",
      "Training:  45%|████████████████████████████████████████████████████▋                                                                | 338/751 [00:02<00:02, 165.71it/s]\u001b[A\n",
      "Training:  47%|███████████████████████████████████████████████████████▍                                                             | 356/751 [00:02<00:02, 163.64it/s]\u001b[A\n",
      "Training:  50%|██████████████████████████████████████████████████████████                                                           | 373/751 [00:03<00:02, 161.68it/s]\u001b[A\n",
      "Training:  52%|████████████████████████████████████████████████████████████▊                                                        | 390/751 [00:03<00:02, 162.26it/s]\u001b[A\n",
      "Training:  54%|███████████████████████████████████████████████████████████████▍                                                     | 407/751 [00:03<00:02, 161.29it/s]\u001b[A\n",
      "Training:  57%|██████████████████████████████████████████████████████████████████▏                                                  | 425/751 [00:03<00:01, 166.21it/s]\u001b[A\n",
      "Training:  59%|████████████████████████████████████████████████████████████████████▊                                                | 442/751 [00:03<00:01, 164.66it/s]\u001b[A\n",
      "\n",
      "Evaluation:   0%|                                                                                                                               | 0/84 [00:00<?, ?it/s]\u001b[A\u001b[A\n",
      "\n",
      "Evaluation:   1%|█▍                                                                                                                     | 1/84 [00:00<00:24,  3.43it/s]\u001b[A\u001b[A\n",
      "\n",
      "Evaluation:  39%|█████████████████████████████████████████████▉                                                                       | 33/84 [00:00<00:00, 106.94it/s]\u001b[A\u001b[A\n",
      "\n",
      "Evaluation: 100%|█████████████████████████████████████████████████████████████████████████████████████████████████████████████████████| 84/84 [00:00<00:00, 130.20it/s]\u001b[A\u001b[A\n",
      "\n",
      "Training:  61%|████████████████████████████████████████████████████████████████████████                                              | 459/751 [00:04<00:05, 56.06it/s]\u001b[A"
     ]
    },
    {
     "name": "stdout",
     "output_type": "stream",
     "text": [
      ">>> training loss: 0.0000, valid loss: 1.5461, valid f1 score: 0.5127\n"
     ]
    },
    {
     "name": "stderr",
     "output_type": "stream",
     "text": [
      "\n",
      "Training:  63%|██████████████████████████████████████████████████████████████████████████▍                                           | 474/751 [00:04<00:04, 67.39it/s]\u001b[A\n",
      "Training:  65%|████████████████████████████████████████████████████████████████████████████▊                                         | 489/751 [00:04<00:03, 79.25it/s]\u001b[A\n",
      "Training:  67%|███████████████████████████████████████████████████████████████████████████████▏                                      | 504/751 [00:04<00:02, 90.62it/s]\u001b[A\n",
      "Training:  69%|█████████████████████████████████████████████████████████████████████████████████                                    | 520/751 [00:04<00:02, 103.97it/s]\u001b[A\n",
      "Training:  71%|███████████████████████████████████████████████████████████████████████████████████▎                                 | 535/751 [00:04<00:01, 109.67it/s]\u001b[A\n",
      "Training:  73%|█████████████████████████████████████████████████████████████████████████████████████▌                               | 549/751 [00:04<00:01, 114.06it/s]\u001b[A\n",
      "Training:  75%|███████████████████████████████████████████████████████████████████████████████████████▊                             | 564/751 [00:05<00:01, 121.35it/s]\u001b[A\n",
      "Training:  77%|██████████████████████████████████████████████████████████████████████████████████████████▎                          | 580/751 [00:05<00:01, 130.36it/s]\u001b[A\n",
      "Training:  79%|████████████████████████████████████████████████████████████████████████████████████████████▋                        | 595/751 [00:05<00:01, 135.26it/s]\u001b[A\n",
      "Training:  81%|███████████████████████████████████████████████████████████████████████████████████████████████                      | 610/751 [00:05<00:01, 133.74it/s]\u001b[A\n",
      "Training:  83%|█████████████████████████████████████████████████████████████████████████████████████████████████▎                   | 625/751 [00:05<00:00, 132.21it/s]\u001b[A\n",
      "Training:  85%|███████████████████████████████████████████████████████████████████████████████████████████████████▌                 | 639/751 [00:05<00:00, 131.06it/s]\u001b[A\n",
      "Training:  87%|█████████████████████████████████████████████████████████████████████████████████████████████████████▋               | 653/751 [00:05<00:00, 130.84it/s]\u001b[A\n",
      "Training:  89%|███████████████████████████████████████████████████████████████████████████████████████████████████████▉             | 667/751 [00:05<00:00, 133.14it/s]\u001b[A\n",
      "Training:  91%|██████████████████████████████████████████████████████████████████████████████████████████████████████████▎          | 682/751 [00:05<00:00, 136.50it/s]\u001b[A\n",
      "Training:  93%|████████████████████████████████████████████████████████████████████████████████████████████████████████████▌        | 697/751 [00:05<00:00, 139.28it/s]\u001b[A\n",
      "Training:  95%|███████████████████████████████████████████████████████████████████████████████████████████████████████████████      | 713/751 [00:06<00:00, 142.92it/s]\u001b[A\n",
      "Training:  97%|█████████████████████████████████████████████████████████████████████████████████████████████████████████████████▍   | 728/751 [00:06<00:00, 139.49it/s]\u001b[A\n",
      "Training:  99%|███████████████████████████████████████████████████████████████████████████████████████████████████████████████████▊ | 743/751 [00:06<00:00, 136.69it/s]\u001b[A\n",
      "\n",
      "Evaluation:   0%|                                                                                                                               | 0/84 [00:00<?, ?it/s]\u001b[A\u001b[A\n",
      "\n",
      "Evaluation:   1%|█▍                                                                                                                     | 1/84 [00:00<00:23,  3.57it/s]\u001b[A\u001b[A\n",
      "\n",
      "Evaluation: 100%|█████████████████████████████████████████████████████████████████████████████████████████████████████████████████████| 84/84 [00:00<00:00, 147.02it/s]\u001b[A\u001b[A\n",
      "Training: 100%|█████████████████████████████████████████████████████████████████████████████████████████████████████████████████████| 751/751 [00:07<00:00, 106.80it/s]\n",
      " 60%|██████████████████████████████████████████████████████████████████████████████▌                                                    | 6/10 [00:37<00:25,  6.34s/it]"
     ]
    },
    {
     "name": "stdout",
     "output_type": "stream",
     "text": [
      ">>> training loss: 0.0000, valid loss: 1.5720, valid f1 score: 0.5080\n"
     ]
    },
    {
     "name": "stderr",
     "output_type": "stream",
     "text": [
      "\n",
      "Training:   0%|                                                                                                                                | 0/751 [00:00<?, ?it/s]\u001b[A\n",
      "Training:   0%|▏                                                                                                                       | 1/751 [00:00<03:28,  3.61it/s]\u001b[A\n",
      "Training:   3%|███▎                                                                                                                   | 21/751 [00:00<00:10, 70.01it/s]\u001b[A\n",
      "Training:   5%|██████▍                                                                                                               | 41/751 [00:00<00:06, 111.66it/s]\u001b[A\n",
      "Training:   8%|█████████▌                                                                                                            | 61/751 [00:00<00:04, 138.44it/s]\u001b[A\n",
      "Training:  11%|████████████▋                                                                                                         | 81/751 [00:00<00:04, 155.74it/s]\u001b[A\n",
      "Training:  13%|███████████████▌                                                                                                     | 100/751 [00:00<00:03, 165.13it/s]\u001b[A\n",
      "Training:  16%|██████████████████▊                                                                                                  | 121/751 [00:00<00:03, 178.40it/s]\u001b[A\n",
      "Training:  19%|█████████████████████▉                                                                                               | 141/751 [00:00<00:03, 180.41it/s]\u001b[A\n",
      "Training:  21%|████████████████████████▉                                                                                            | 160/751 [00:01<00:03, 182.29it/s]\u001b[A\n",
      "Training:  25%|████████████████████████████▋                                                                                        | 184/751 [00:01<00:02, 197.87it/s]\u001b[A\n",
      "Training:  28%|████████████████████████████████▍                                                                                    | 208/751 [00:01<00:02, 209.65it/s]\u001b[A\n",
      "Training:  31%|████████████████████████████████████▏                                                                                | 232/751 [00:01<00:02, 216.52it/s]\u001b[A\n",
      "Training:  34%|███████████████████████████████████████▌                                                                             | 254/751 [00:01<00:02, 216.53it/s]\u001b[A\n",
      "Training:  37%|███████████████████████████████████████████▏                                                                         | 277/751 [00:01<00:02, 218.78it/s]\u001b[A\n",
      "\n",
      "Evaluation:   0%|                                                                                                                               | 0/84 [00:00<?, ?it/s]\u001b[A\u001b[A\n",
      "\n",
      "Evaluation:   1%|█▍                                                                                                                     | 1/84 [00:00<00:21,  3.78it/s]\u001b[A\u001b[A\n",
      "\n",
      "Evaluation:  43%|██████████████████████████████████████████████████▏                                                                  | 36/84 [00:00<00:00, 124.12it/s]\u001b[A\u001b[A\n",
      "\n",
      "Evaluation: 100%|█████████████████████████████████████████████████████████████████████████████████████████████████████████████████████| 84/84 [00:00<00:00, 140.22it/s]\u001b[A\u001b[A\n",
      "\n",
      "Training:  40%|██████████████████████████████████████████████▉                                                                       | 299/751 [00:02<00:06, 75.22it/s]\u001b[A\n",
      "Training:  43%|██████████████████████████████████████████████████▊                                                                   | 323/751 [00:02<00:04, 95.77it/s]\u001b[A"
     ]
    },
    {
     "name": "stdout",
     "output_type": "stream",
     "text": [
      ">>> training loss: 0.0000, valid loss: 1.6072, valid f1 score: 0.5192\n"
     ]
    },
    {
     "name": "stderr",
     "output_type": "stream",
     "text": [
      "\n",
      "Training:  46%|█████████████████████████████████████████████████████▉                                                               | 346/751 [00:02<00:03, 116.26it/s]\u001b[A\n",
      "Training:  49%|█████████████████████████████████████████████████████████▍                                                           | 369/751 [00:02<00:02, 136.26it/s]\u001b[A\n",
      "Training:  52%|█████████████████████████████████████████████████████████████                                                        | 392/751 [00:02<00:02, 154.91it/s]\u001b[A\n",
      "Training:  55%|████████████████████████████████████████████████████████████████▍                                                    | 414/751 [00:02<00:01, 169.43it/s]\u001b[A\n",
      "Training:  58%|███████████████████████████████████████████████████████████████████▉                                                 | 436/751 [00:02<00:01, 180.92it/s]\u001b[A\n",
      "Training:  61%|███████████████████████████████████████████████████████████████████████▎                                             | 458/751 [00:03<00:01, 176.63it/s]\u001b[A\n",
      "Training:  64%|██████████████████████████████████████████████████████████████████████████▌                                          | 479/751 [00:03<00:01, 173.75it/s]\u001b[A\n",
      "Training:  67%|█████████████████████████████████████████████████████████████████████████████▉                                       | 500/751 [00:03<00:01, 181.87it/s]\u001b[A\n",
      "Training:  69%|█████████████████████████████████████████████████████████████████████████████████▏                                   | 521/751 [00:03<00:01, 187.10it/s]\u001b[A\n",
      "Training:  72%|████████████████████████████████████████████████████████████████████████████████████▍                                | 542/751 [00:03<00:01, 191.95it/s]\u001b[A\n",
      "Training:  75%|███████████████████████████████████████████████████████████████████████████████████████▌                             | 562/751 [00:03<00:00, 190.26it/s]\u001b[A\n",
      "Training:  77%|██████████████████████████████████████████████████████████████████████████████████████████▋                          | 582/751 [00:03<00:00, 188.95it/s]\u001b[A\n",
      "\n",
      "Evaluation:   0%|                                                                                                                               | 0/84 [00:00<?, ?it/s]\u001b[A\u001b[A\n",
      "\n",
      "Evaluation:   1%|█▍                                                                                                                     | 1/84 [00:00<00:18,  4.60it/s]\u001b[A\u001b[A\n",
      "\n",
      "Evaluation:  44%|███████████████████████████████████████████████████▌                                                                 | 37/84 [00:00<00:00, 144.91it/s]\u001b[A\u001b[A\n",
      "\n",
      "Evaluation: 100%|█████████████████████████████████████████████████████████████████████████████████████████████████████████████████████| 84/84 [00:00<00:00, 154.64it/s]\u001b[A\u001b[A\n",
      "\n",
      "Training:  80%|██████████████████████████████████████████████████████████████████████████████████████████████▌                       | 602/751 [00:04<00:02, 73.84it/s]\u001b[A\n",
      "Training:  83%|██████████████████████████████████████████████████████████████████████████████████████████████████                    | 624/751 [00:04<00:01, 93.19it/s]\u001b[A"
     ]
    },
    {
     "name": "stdout",
     "output_type": "stream",
     "text": [
      ">>> training loss: 0.0000, valid loss: 1.6388, valid f1 score: 0.5264\n"
     ]
    },
    {
     "name": "stderr",
     "output_type": "stream",
     "text": [
      "\n",
      "Training:  86%|████████████████████████████████████████████████████████████████████████████████████████████████████▎                | 644/751 [00:04<00:00, 110.25it/s]\u001b[A\n",
      "Training:  89%|███████████████████████████████████████████████████████████████████████████████████████████████████████▌             | 665/751 [00:04<00:00, 127.82it/s]\u001b[A\n",
      "Training:  91%|██████████████████████████████████████████████████████████████████████████████████████████████████████████▋          | 685/751 [00:04<00:00, 141.48it/s]\u001b[A\n",
      "Training:  94%|█████████████████████████████████████████████████████████████████████████████████████████████████████████████▋       | 704/751 [00:04<00:00, 151.95it/s]\u001b[A\n",
      "Training:  96%|████████████████████████████████████████████████████████████████████████████████████████████████████████████████▊    | 724/751 [00:05<00:00, 161.76it/s]\u001b[A\n",
      "Training: 100%|█████████████████████████████████████████████████████████████████████████████████████████████████████████████████████| 751/751 [00:05<00:00, 142.51it/s]\u001b[A\n",
      " 70%|███████████████████████████████████████████████████████████████████████████████████████████▋                                       | 7/10 [00:42<00:17,  5.99s/it]\n",
      "Training:   0%|                                                                                                                                | 0/751 [00:00<?, ?it/s]\u001b[A\n",
      "Training:   0%|▏                                                                                                                       | 1/751 [00:00<03:36,  3.46it/s]\u001b[A\n",
      "Training:   2%|██▋                                                                                                                    | 17/751 [00:00<00:13, 54.68it/s]\u001b[A\n",
      "Training:   5%|█████▋                                                                                                                 | 36/751 [00:00<00:07, 97.42it/s]\u001b[A\n",
      "Training:   8%|████████▉                                                                                                             | 57/751 [00:00<00:05, 130.69it/s]\u001b[A\n",
      "Training:  10%|████████████▎                                                                                                         | 78/751 [00:00<00:04, 152.56it/s]\u001b[A\n",
      "Training:  13%|███████████████▌                                                                                                      | 99/751 [00:00<00:03, 167.61it/s]\u001b[A\n",
      "Training:  16%|██████████████████▊                                                                                                  | 121/751 [00:00<00:03, 182.22it/s]\u001b[A\n",
      "\n",
      "Evaluation:   0%|                                                                                                                               | 0/84 [00:00<?, ?it/s]\u001b[A\u001b[A\n",
      "\n",
      "Evaluation:   1%|█▍                                                                                                                     | 1/84 [00:00<00:17,  4.66it/s]\u001b[A\u001b[A\n",
      "\n",
      "Evaluation:  44%|███████████████████████████████████████████████████▌                                                                 | 37/84 [00:00<00:00, 146.58it/s]\u001b[A\u001b[A\n",
      "\n",
      "Evaluation: 100%|█████████████████████████████████████████████████████████████████████████████████████████████████████████████████████| 84/84 [00:00<00:00, 162.20it/s]\u001b[A\u001b[A\n",
      "\n",
      "Training:  19%|██████████████████████▍                                                                                               | 143/751 [00:01<00:07, 76.13it/s]\u001b[A\n",
      "Training:  22%|█████████████████████████▌                                                                                            | 163/751 [00:01<00:06, 93.20it/s]\u001b[A"
     ]
    },
    {
     "name": "stdout",
     "output_type": "stream",
     "text": [
      ">>> training loss: 0.0000, valid loss: 1.6664, valid f1 score: 0.5153\n"
     ]
    },
    {
     "name": "stderr",
     "output_type": "stream",
     "text": [
      "\n",
      "Training:  24%|████████████████████████████▌                                                                                        | 183/751 [00:01<00:05, 111.18it/s]\u001b[A\n",
      "Training:  27%|███████████████████████████████▊                                                                                     | 204/751 [00:01<00:04, 129.22it/s]\u001b[A\n",
      "Training:  30%|██████████████████████████████████▉                                                                                  | 224/751 [00:01<00:03, 144.31it/s]\u001b[A\n",
      "Training:  32%|██████████████████████████████████████                                                                               | 244/751 [00:02<00:03, 157.18it/s]\u001b[A\n",
      "Training:  35%|█████████████████████████████████████████▏                                                                           | 264/751 [00:02<00:02, 167.54it/s]\u001b[A\n",
      "Training:  38%|████████████████████████████████████████████▊                                                                        | 288/751 [00:02<00:02, 185.80it/s]\u001b[A\n",
      "Training:  42%|████████████████████████████████████████████████▊                                                                    | 313/751 [00:02<00:02, 201.80it/s]\u001b[A\n",
      "Training:  45%|████████████████████████████████████████████████████▌                                                                | 337/751 [00:02<00:01, 212.29it/s]\u001b[A\n",
      "Training:  48%|████████████████████████████████████████████████████████▏                                                            | 361/751 [00:02<00:01, 218.49it/s]\u001b[A\n",
      "Training:  51%|███████████████████████████████████████████████████████████▊                                                         | 384/751 [00:02<00:01, 212.67it/s]\u001b[A\n",
      "Training:  54%|███████████████████████████████████████████████████████████████▎                                                     | 406/751 [00:02<00:01, 206.64it/s]\u001b[A\n",
      "Training:  57%|██████████████████████████████████████████████████████████████████▋                                                  | 428/751 [00:02<00:01, 202.50it/s]\u001b[A\n",
      "\n",
      "Evaluation:   0%|                                                                                                                               | 0/84 [00:00<?, ?it/s]\u001b[A\u001b[A\n",
      "\n",
      "Evaluation:   1%|█▍                                                                                                                     | 1/84 [00:00<00:19,  4.26it/s]\u001b[A\u001b[A\n",
      "\n",
      "Evaluation:  49%|█████████████████████████████████████████████████████████                                                            | 41/84 [00:00<00:00, 152.80it/s]\u001b[A\u001b[A\n",
      "\n",
      "Evaluation: 100%|█████████████████████████████████████████████████████████████████████████████████████████████████████████████████████| 84/84 [00:00<00:00, 149.37it/s]\u001b[A\u001b[A\n",
      "\n",
      "Training:  60%|██████████████████████████████████████████████████████████████████████▌                                               | 449/751 [00:03<00:03, 77.20it/s]\u001b[A\n",
      "Training:  62%|█████████████████████████████████████████████████████████████████████████▋                                            | 469/751 [00:03<00:03, 93.05it/s]\u001b[A"
     ]
    },
    {
     "name": "stdout",
     "output_type": "stream",
     "text": [
      ">>> training loss: 0.0000, valid loss: 1.7086, valid f1 score: 0.5209\n"
     ]
    },
    {
     "name": "stderr",
     "output_type": "stream",
     "text": [
      "\n",
      "Training:  65%|████████████████████████████████████████████████████████████████████████████▎                                        | 490/751 [00:03<00:02, 111.18it/s]\u001b[A\n",
      "Training:  68%|███████████████████████████████████████████████████████████████████████████████▊                                     | 512/751 [00:03<00:01, 130.09it/s]\u001b[A\n",
      "Training:  71%|███████████████████████████████████████████████████████████████████████████████████                                  | 533/751 [00:03<00:01, 145.84it/s]\u001b[A\n",
      "Training:  74%|██████████████████████████████████████████████████████████████████████████████████████▎                              | 554/751 [00:04<00:01, 160.07it/s]\u001b[A\n",
      "Training:  77%|█████████████████████████████████████████████████████████████████████████████████████████▌                           | 575/751 [00:04<00:01, 171.60it/s]\u001b[A\n",
      "Training:  79%|████████████████████████████████████████████████████████████████████████████████████████████▊                        | 596/751 [00:04<00:00, 180.98it/s]\u001b[A\n",
      "Training:  83%|████████████████████████████████████████████████████████████████████████████████████████████████▌                    | 620/751 [00:04<00:00, 196.72it/s]\u001b[A\n",
      "Training:  86%|████████████████████████████████████████████████████████████████████████████████████████████████████▏                | 643/751 [00:04<00:00, 205.26it/s]\u001b[A\n",
      "Training:  89%|███████████████████████████████████████████████████████████████████████████████████████████████████████▌             | 665/751 [00:04<00:00, 208.96it/s]\u001b[A\n",
      "Training:  91%|███████████████████████████████████████████████████████████████████████████████████████████████████████████          | 687/751 [00:04<00:00, 211.05it/s]\u001b[A\n",
      "Training:  95%|██████████████████████████████████████████████████████████████████████████████████████████████████████████████▌      | 710/751 [00:04<00:00, 214.52it/s]\u001b[A\n",
      "Training:  98%|██████████████████████████████████████████████████████████████████████████████████████████████████████████████████▏  | 733/751 [00:04<00:00, 217.73it/s]\u001b[A\n",
      "\n",
      "Evaluation:   0%|                                                                                                                               | 0/84 [00:00<?, ?it/s]\u001b[A\u001b[A\n",
      "\n",
      "Evaluation:   1%|█▍                                                                                                                     | 1/84 [00:00<00:17,  4.79it/s]\u001b[A\u001b[A\n",
      "\n",
      "Evaluation:  42%|████████████████████████████████████████████████▊                                                                    | 35/84 [00:00<00:00, 139.59it/s]\u001b[A\u001b[A\n",
      "\n",
      "Evaluation: 100%|█████████████████████████████████████████████████████████████████████████████████████████████████████████████████████| 84/84 [00:00<00:00, 160.72it/s]\u001b[A\u001b[A\n",
      "Training: 100%|█████████████████████████████████████████████████████████████████████████████████████████████████████████████████████| 751/751 [00:05<00:00, 133.75it/s]\n",
      " 80%|████████████████████████████████████████████████████████████████████████████████████████████████████████▊                          | 8/10 [00:47<00:11,  5.87s/it]"
     ]
    },
    {
     "name": "stdout",
     "output_type": "stream",
     "text": [
      ">>> training loss: 0.0000, valid loss: 1.7160, valid f1 score: 0.5141\n"
     ]
    },
    {
     "name": "stderr",
     "output_type": "stream",
     "text": [
      "\n",
      "Training:   0%|                                                                                                                                | 0/751 [00:00<?, ?it/s]\u001b[A\n",
      "Training:   0%|▏                                                                                                                       | 1/751 [00:00<03:25,  3.65it/s]\u001b[A\n",
      "Training:   3%|███▋                                                                                                                   | 23/751 [00:00<00:09, 77.34it/s]\u001b[A\n",
      "Training:   6%|███████▏                                                                                                              | 46/751 [00:00<00:05, 126.40it/s]\u001b[A\n",
      "Training:   9%|██████████▋                                                                                                           | 68/751 [00:00<00:04, 154.59it/s]\u001b[A\n",
      "Training:  12%|█████████████▋                                                                                                        | 87/751 [00:00<00:04, 159.05it/s]\u001b[A\n",
      "Training:  14%|████████████████▌                                                                                                    | 106/751 [00:00<00:03, 167.49it/s]\u001b[A\n",
      "Training:  17%|███████████████████▍                                                                                                 | 125/751 [00:00<00:03, 173.26it/s]\u001b[A\n",
      "Training:  19%|██████████████████████▌                                                                                              | 145/751 [00:01<00:03, 179.23it/s]\u001b[A\n",
      "Training:  22%|█████████████████████████▌                                                                                           | 164/751 [00:01<00:03, 181.57it/s]\u001b[A\n",
      "Training:  24%|████████████████████████████▌                                                                                        | 183/751 [00:01<00:03, 173.53it/s]\u001b[A\n",
      "Training:  27%|███████████████████████████████▍                                                                                     | 202/751 [00:01<00:03, 176.95it/s]\u001b[A\n",
      "Training:  30%|██████████████████████████████████▌                                                                                  | 222/751 [00:01<00:02, 181.38it/s]\u001b[A\n",
      "Training:  32%|█████████████████████████████████████▋                                                                               | 242/751 [00:01<00:02, 185.23it/s]\u001b[A\n",
      "Training:  35%|████████████████████████████████████████▊                                                                            | 262/751 [00:01<00:02, 187.47it/s]\u001b[A\n",
      "Training:  38%|███████████████████████████████████████████▉                                                                         | 282/751 [00:01<00:02, 189.14it/s]\u001b[A\n",
      "\n",
      "Evaluation:   0%|                                                                                                                               | 0/84 [00:00<?, ?it/s]\u001b[A\u001b[A\n",
      "\n",
      "Evaluation:   1%|█▍                                                                                                                     | 1/84 [00:00<00:20,  3.96it/s]\u001b[A\u001b[A\n",
      "\n",
      "Evaluation:  49%|█████████████████████████████████████████████████████████                                                            | 41/84 [00:00<00:00, 146.05it/s]\u001b[A\u001b[A\n",
      "\n",
      "Evaluation: 100%|█████████████████████████████████████████████████████████████████████████████████████████████████████████████████████| 84/84 [00:00<00:00, 145.66it/s]\u001b[A\u001b[A\n",
      "\n",
      "Training:  40%|███████████████████████████████████████████████▍                                                                      | 302/751 [00:02<00:06, 69.31it/s]\u001b[A\n",
      "Training:  43%|██████████████████████████████████████████████████▍                                                                   | 321/751 [00:02<00:05, 84.76it/s]\u001b[A"
     ]
    },
    {
     "name": "stdout",
     "output_type": "stream",
     "text": [
      ">>> training loss: 0.0000, valid loss: 1.7885, valid f1 score: 0.5151\n"
     ]
    },
    {
     "name": "stderr",
     "output_type": "stream",
     "text": [
      "\n",
      "Training:  45%|████████████████████████████████████████████████████▉                                                                | 340/751 [00:02<00:04, 100.76it/s]\u001b[A\n",
      "Training:  48%|███████████████████████████████████████████████████████▉                                                             | 359/751 [00:02<00:03, 116.26it/s]\u001b[A\n",
      "Training:  50%|██████████████████████████████████████████████████████████▉                                                          | 378/751 [00:02<00:02, 130.70it/s]\u001b[A\n",
      "Training:  53%|█████████████████████████████████████████████████████████████▊                                                       | 397/751 [00:02<00:02, 143.67it/s]\u001b[A\n",
      "Training:  56%|████████████████████████████████████████████████████████████████▉                                                    | 417/751 [00:03<00:02, 155.64it/s]\u001b[A\n",
      "Training:  58%|████████████████████████████████████████████████████████████████████▏                                                | 438/751 [00:03<00:01, 168.64it/s]\u001b[A\n",
      "Training:  61%|███████████████████████████████████████████████████████████████████████▋                                             | 460/751 [00:03<00:01, 180.25it/s]\u001b[A\n",
      "Training:  64%|███████████████████████████████████████████████████████████████████████████                                          | 482/751 [00:03<00:01, 188.96it/s]\u001b[A\n",
      "Training:  67%|██████████████████████████████████████████████████████████████████████████████▌                                      | 504/751 [00:03<00:01, 195.43it/s]\u001b[A\n",
      "Training:  70%|█████████████████████████████████████████████████████████████████████████████████▉                                   | 526/751 [00:03<00:01, 200.07it/s]\u001b[A\n",
      "Training:  73%|█████████████████████████████████████████████████████████████████████████████████████▎                               | 548/751 [00:03<00:00, 204.40it/s]\u001b[A\n",
      "Training:  76%|████████████████████████████████████████████████████████████████████████████████████████▊                            | 570/751 [00:03<00:00, 206.36it/s]\u001b[A\n",
      "Training:  79%|████████████████████████████████████████████████████████████████████████████████████████████                         | 591/751 [00:03<00:00, 206.97it/s]\u001b[A\n",
      "\n",
      "Evaluation:   0%|                                                                                                                               | 0/84 [00:00<?, ?it/s]\u001b[A\u001b[A\n",
      "\n",
      "Evaluation:   1%|█▍                                                                                                                     | 1/84 [00:00<00:17,  4.62it/s]\u001b[A\u001b[A\n",
      "\n",
      "Evaluation:  44%|███████████████████████████████████████████████████▌                                                                 | 37/84 [00:00<00:00, 144.53it/s]\u001b[A\u001b[A\n",
      "\n",
      "Evaluation: 100%|█████████████████████████████████████████████████████████████████████████████████████████████████████████████████████| 84/84 [00:00<00:00, 152.03it/s]\u001b[A\u001b[A\n",
      "\n",
      "Training:  81%|████████████████████████████████████████████████████████████████████████████████████████████████▏                     | 612/751 [00:04<00:01, 75.66it/s]\u001b[A"
     ]
    },
    {
     "name": "stdout",
     "output_type": "stream",
     "text": [
      ">>> training loss: 0.0000, valid loss: 1.7810, valid f1 score: 0.5041\n"
     ]
    },
    {
     "name": "stderr",
     "output_type": "stream",
     "text": [
      "\n",
      "Training:  84%|███████████████████████████████████████████████████████████████████████████████████████████████████▏                  | 631/751 [00:04<00:01, 90.29it/s]\u001b[A\n",
      "Training:  87%|█████████████████████████████████████████████████████████████████████████████████████████████████████▎               | 650/751 [00:04<00:00, 105.75it/s]\u001b[A\n",
      "Training:  89%|████████████████████████████████████████████████████████████████████████████████████████████████████████▏            | 669/751 [00:04<00:00, 120.45it/s]\u001b[A\n",
      "Training:  92%|███████████████████████████████████████████████████████████████████████████████████████████████████████████▎         | 689/751 [00:05<00:00, 135.76it/s]\u001b[A\n",
      "Training:  95%|██████████████████████████████████████████████████████████████████████████████████████████████████████████████▊      | 711/751 [00:05<00:00, 153.60it/s]\u001b[A\n",
      "Training: 100%|█████████████████████████████████████████████████████████████████████████████████████████████████████████████████████| 751/751 [00:05<00:00, 139.49it/s]\u001b[A\n",
      " 90%|█████████████████████████████████████████████████████████████████████████████████████████████████████████████████████▉             | 9/10 [00:53<00:05,  5.72s/it]\n",
      "Training:   0%|                                                                                                                                | 0/751 [00:00<?, ?it/s]\u001b[A\n",
      "Training:   0%|▏                                                                                                                       | 1/751 [00:00<02:52,  4.35it/s]\u001b[A\n",
      "Training:   3%|███▎                                                                                                                   | 21/751 [00:00<00:09, 78.11it/s]\u001b[A\n",
      "Training:   6%|██████▊                                                                                                               | 43/751 [00:00<00:05, 127.20it/s]\u001b[A\n",
      "Training:   9%|██████████▏                                                                                                           | 65/751 [00:00<00:04, 156.54it/s]\u001b[A\n",
      "Training:  11%|█████████████▌                                                                                                        | 86/751 [00:00<00:03, 172.83it/s]\u001b[A\n",
      "Training:  14%|████████████████▋                                                                                                    | 107/751 [00:00<00:03, 184.31it/s]\u001b[A\n",
      "Training:  17%|███████████████████▉                                                                                                 | 128/751 [00:00<00:03, 191.78it/s]\u001b[A\n",
      "\n",
      "Evaluation:   0%|                                                                                                                               | 0/84 [00:00<?, ?it/s]\u001b[A\u001b[A\n",
      "\n",
      "Evaluation:   1%|█▍                                                                                                                     | 1/84 [00:00<00:21,  3.94it/s]\u001b[A\u001b[A\n",
      "\n",
      "Evaluation:  51%|███████████████████████████████████████████████████████████▉                                                         | 43/84 [00:00<00:00, 152.76it/s]\u001b[A\u001b[A\n",
      "\n",
      "Evaluation: 100%|█████████████████████████████████████████████████████████████████████████████████████████████████████████████████████| 84/84 [00:00<00:00, 152.75it/s]\u001b[A\u001b[A\n",
      "\n",
      "Training:  20%|███████████████████████▍                                                                                              | 149/751 [00:01<00:08, 72.66it/s]\u001b[A\n",
      "Training:  23%|██████████████████████████▊                                                                                           | 171/751 [00:01<00:06, 92.58it/s]\u001b[A"
     ]
    },
    {
     "name": "stdout",
     "output_type": "stream",
     "text": [
      ">>> training loss: 0.0000, valid loss: 1.8243, valid f1 score: 0.5177\n"
     ]
    },
    {
     "name": "stderr",
     "output_type": "stream",
     "text": [
      "\n",
      "Training:  26%|█████████████████████████████▉                                                                                       | 192/751 [00:01<00:05, 111.55it/s]\u001b[A\n",
      "Training:  28%|█████████████████████████████████▎                                                                                   | 214/751 [00:01<00:04, 131.34it/s]\u001b[A\n",
      "Training:  32%|█████████████████████████████████████▏                                                                               | 239/751 [00:01<00:03, 156.33it/s]\u001b[A\n",
      "Training:  35%|█████████████████████████████████████████▎                                                                           | 265/751 [00:02<00:02, 179.65it/s]\u001b[A\n",
      "Training:  39%|█████████████████████████████████████████████▎                                                                       | 291/751 [00:02<00:02, 198.14it/s]\u001b[A\n",
      "Training:  42%|█████████████████████████████████████████████████▏                                                                   | 316/751 [00:02<00:02, 211.60it/s]\u001b[A\n",
      "Training:  46%|█████████████████████████████████████████████████████▎                                                               | 342/751 [00:02<00:01, 222.89it/s]\u001b[A\n",
      "Training:  49%|█████████████████████████████████████████████████████████▏                                                           | 367/751 [00:02<00:01, 229.21it/s]\u001b[A\n",
      "Training:  52%|█████████████████████████████████████████████████████████████                                                        | 392/751 [00:02<00:01, 234.96it/s]\u001b[A\n",
      "Training:  56%|█████████████████████████████████████████████████████████████████                                                    | 418/751 [00:02<00:01, 240.30it/s]\u001b[A\n",
      "\n",
      "Evaluation:   0%|                                                                                                                               | 0/84 [00:00<?, ?it/s]\u001b[A\u001b[A\n",
      "\n",
      "Evaluation:   1%|█▍                                                                                                                     | 1/84 [00:00<00:18,  4.51it/s]\u001b[A\u001b[A\n",
      "\n",
      "Evaluation:  45%|████████████████████████████████████████████████████▉                                                                | 38/84 [00:00<00:00, 146.05it/s]\u001b[A\u001b[A\n",
      "\n",
      "Evaluation: 100%|█████████████████████████████████████████████████████████████████████████████████████████████████████████████████████| 84/84 [00:00<00:00, 146.82it/s]\u001b[A\u001b[A\n",
      "\n",
      "Training:  59%|█████████████████████████████████████████████████████████████████████▌                                                | 443/751 [00:03<00:03, 89.23it/s]\u001b[A\n",
      "Training:  62%|████████████████████████████████████████████████████████████████████████▎                                            | 464/751 [00:03<00:02, 104.80it/s]\u001b[A"
     ]
    },
    {
     "name": "stdout",
     "output_type": "stream",
     "text": [
      ">>> training loss: 0.0000, valid loss: 1.8550, valid f1 score: 0.4999\n"
     ]
    },
    {
     "name": "stderr",
     "output_type": "stream",
     "text": [
      "\n",
      "Training:  65%|███████████████████████████████████████████████████████████████████████████▊                                         | 487/751 [00:03<00:02, 123.80it/s]\u001b[A\n",
      "Training:  68%|███████████████████████████████████████████████████████████████████████████████▍                                     | 510/751 [00:03<00:01, 142.27it/s]\u001b[A\n",
      "Training:  71%|██████████████████████████████████████████████████████████████████████████████████▉                                  | 532/751 [00:03<00:01, 158.29it/s]\u001b[A\n",
      "Training:  74%|██████████████████████████████████████████████████████████████████████████████████████▍                              | 555/751 [00:03<00:01, 172.93it/s]\u001b[A\n",
      "Training:  77%|██████████████████████████████████████████████████████████████████████████████████████████                           | 578/751 [00:03<00:00, 185.10it/s]\u001b[A\n",
      "Training:  80%|█████████████████████████████████████████████████████████████████████████████████████████████▍                       | 600/751 [00:04<00:00, 194.01it/s]\u001b[A\n",
      "Training:  83%|█████████████████████████████████████████████████████████████████████████████████████████████████▌                   | 626/751 [00:04<00:00, 209.78it/s]\u001b[A\n",
      "Training:  87%|█████████████████████████████████████████████████████████████████████████████████████████████████████▌               | 652/751 [00:04<00:00, 221.68it/s]\u001b[A\n",
      "Training:  90%|█████████████████████████████████████████████████████████████████████████████████████████████████████████▋           | 678/751 [00:04<00:00, 231.11it/s]\u001b[A\n",
      "Training:  94%|█████████████████████████████████████████████████████████████████████████████████████████████████████████████▋       | 704/751 [00:04<00:00, 238.38it/s]\u001b[A\n",
      "Training:  97%|█████████████████████████████████████████████████████████████████████████████████████████████████████████████████▌   | 729/751 [00:04<00:00, 241.69it/s]\u001b[A\n",
      "\n",
      "Evaluation:   0%|                                                                                                                               | 0/84 [00:00<?, ?it/s]\u001b[A\u001b[A\n",
      "\n",
      "Evaluation:   1%|█▍                                                                                                                     | 1/84 [00:00<00:19,  4.33it/s]\u001b[A\u001b[A\n",
      "\n",
      "Evaluation:  44%|███████████████████████████████████████████████████▌                                                                 | 37/84 [00:00<00:00, 139.83it/s]\u001b[A\u001b[A\n",
      "\n",
      "Evaluation: 100%|█████████████████████████████████████████████████████████████████████████████████████████████████████████████████████| 84/84 [00:00<00:00, 154.13it/s]\u001b[A\u001b[A\n",
      "Training: 100%|█████████████████████████████████████████████████████████████████████████████████████████████████████████████████████| 751/751 [00:05<00:00, 141.65it/s]\n",
      "100%|██████████████████████████████████████████████████████████████████████████████████████████████████████████████████████████████████| 10/10 [00:58<00:00,  5.87s/it]"
     ]
    },
    {
     "name": "stdout",
     "output_type": "stream",
     "text": [
      ">>> training loss: 0.0000, valid loss: 1.8713, valid f1 score: 0.5087\n"
     ]
    },
    {
     "name": "stderr",
     "output_type": "stream",
     "text": [
      "\n"
     ]
    }
   ],
   "source": [
    "best_model = train(model, config, id2label, train_dataloader, val_dataloader)"
   ]
  },
  {
   "cell_type": "code",
   "execution_count": 80,
   "metadata": {},
   "outputs": [],
   "source": [
    "def predict(config, id2label, model, test_dataloader):\n",
    "    test_iterator = tqdm(test_dataloader, desc='Evaluation', total=len(test_dataloader))\n",
    "    model.eval()\n",
    "    test_preds = []\n",
    "    with torch.no_grad():\n",
    "        for batch in test_iterator:\n",
    "            batch = {item: value.to(config['device']) for item, value in batch.items()}\n",
    "\n",
    "            logits = model(**batch)[1]\n",
    "\n",
    "            test_preds.append(logits.argmax(dim=-1).detach().cpu())\n",
    "    \n",
    "    test_preds = torch.cat(test_preds, dim=0).numpy()\n",
    "    test_preds = [id2label[id_] for id_ in test_preds]\n",
    "\n",
    "    test_df = pd.read_csv(config['test_file_path'], sep=',')\n",
    "    test_df.insert(1, column='label', value=test_preds)\n",
    "    test_df.drop(columns=['sentence'], inplace=True)\n",
    "    test_df.to_csv('submission.csv', index=False, encoding='utf8')"
   ]
  },
  {
   "cell_type": "code",
   "execution_count": null,
   "metadata": {},
   "outputs": [],
   "source": []
  }
 ],
 "metadata": {
  "kernelspec": {
   "display_name": "daily",
   "language": "python",
   "name": "python3"
  },
  "language_info": {
   "codemirror_mode": {
    "name": "ipython",
    "version": 3
   },
   "file_extension": ".py",
   "mimetype": "text/x-python",
   "name": "python",
   "nbconvert_exporter": "python",
   "pygments_lexer": "ipython3",
   "version": "3.8.13 (default, Mar 28 2022, 06:59:08) [MSC v.1916 64 bit (AMD64)]"
  },
  "vscode": {
   "interpreter": {
    "hash": "d942a3d55bcde0ab6c1dcd8734240b12977ff4552e310d6e7d7d4cb3a8ea6d95"
   }
  }
 },
 "nbformat": 4,
 "nbformat_minor": 2
}
