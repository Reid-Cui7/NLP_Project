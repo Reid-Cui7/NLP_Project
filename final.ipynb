{
 "cells": [
  {
   "cell_type": "code",
   "execution_count": null,
   "metadata": {},
   "outputs": [],
   "source": [
    "import torch\n",
    "import torch.nn as nn\n",
    "\n",
    "\n",
    "config = {\n",
    "    'train_file_path': 'dataset/train.csv',\n",
    "    'test_file_path': 'dataset/test.csv',\n",
    "    'train_val_ratio': 0.1,\n",
    "    'vocab_size': 30000,\n",
    "    'batch_size': 64,\n",
    "    'num_epochs': 10,\n",
    "    'learning_rate': 1e-3,\n",
    "    'logging_step': 300,\n",
    "    'seed': 10003\n",
    "}"
   ]
  }
 ],
 "metadata": {
  "language_info": {
   "name": "python"
  },
  "orig_nbformat": 4
 },
 "nbformat": 4,
 "nbformat_minor": 2
}
