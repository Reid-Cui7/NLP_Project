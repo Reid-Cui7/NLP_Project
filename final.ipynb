{
 "cells": [
  {
   "cell_type": "code",
   "execution_count": 15,
   "metadata": {},
   "outputs": [
    {
     "data": {
      "text/plain": [
       "10003"
      ]
     },
     "execution_count": 15,
     "metadata": {},
     "output_type": "execute_result"
    }
   ],
   "source": [
    "import torch\n",
    "import torch.nn as nn\n",
    "\n",
    "\n",
    "config = {\n",
    "    'train_file_path': 'dataset/train.csv',\n",
    "    'test_file_path': 'dataset/test.csv',\n",
    "    'embedding_path': 'dataset/sgns.weibo.word.bz2',\n",
    "    'train_val_ratio': 0.1,\n",
    "    'vocab_size': 30000,\n",
    "    'batch_size': 64,\n",
    "    'num_epochs': 10,\n",
    "    'learning_rate': 1e-3,\n",
    "    'logging_step': 300,\n",
    "    'seed': 10003\n",
    "}\n",
    "\n",
    "config['device'] = 'cuda' if torch.cuda.is_available() else 'cpu'\n",
    "\n",
    "import random\n",
    "import numpy as np\n",
    "\n",
    "def seed_everything(seed):\n",
    "    random.seed(seed)\n",
    "    np.random.seed(seed)\n",
    "    torch.manual_seed(seed)\n",
    "    torch.cuda.manual_seed_all(seed)\n",
    "    return seed\n",
    "\n",
    "seed_everything(config['seed'])"
   ]
  },
  {
   "cell_type": "code",
   "execution_count": 7,
   "metadata": {},
   "outputs": [],
   "source": [
    "# train.csv 4 cols: id, label, label_desc, sentence\n",
    "from collections import Counter\n",
    "from tqdm import tqdm\n",
    "import jieba\n",
    "\n",
    "def get_vocab(config):\n",
    "    token_counter = Counter()\n",
    "    with open(config['train_file_path'], 'r', encoding='utf-8') as f:\n",
    "        lines = f.readlines()\n",
    "        for line in tqdm(lines, desc='Counting tokens', total=len(lines)):\n",
    "            sent = line.split(',')[-1].strip()\n",
    "            sent_cut = list(jieba.cut(sent))\n",
    "            token_counter.update(sent_cut)\n",
    "            # token_counter {'我': 2, '是': 5, ...}\n",
    "    \n",
    "    vocab = set(token for token, _ in token_counter.most_common(config['vocab_size']))\n",
    "    return vocab"
   ]
  },
  {
   "cell_type": "code",
   "execution_count": 9,
   "metadata": {},
   "outputs": [
    {
     "name": "stderr",
     "output_type": "stream",
     "text": [
      "Counting tokens: 100%|█████████████████████████████████████████████████████████████████████████████████████████████████████████████████| 53361/53361 [00:07<00:00, 6960.64it/s]\n"
     ]
    }
   ],
   "source": [
    "vocab = get_vocab(config)"
   ]
  },
  {
   "cell_type": "code",
   "execution_count": 12,
   "metadata": {},
   "outputs": [],
   "source": [
    "import bz2\n",
    "\n",
    "with bz2.open(config['embedding_path']) as f:\n",
    "    token_vector = f.readlines()"
   ]
  },
  {
   "cell_type": "code",
   "execution_count": 14,
   "metadata": {},
   "outputs": [
    {
     "name": "stdout",
     "output_type": "stream",
     "text": [
      "是\n",
      "300\n"
     ]
    }
   ],
   "source": [
    "for i, line in enumerate(token_vector):\n",
    "    if i == 10:\n",
    "        line = line.split()\n",
    "        print(line[0].decode('utf-8'))\n",
    "        # print(line[1:])\n",
    "        print(len(line[1:]))\n",
    "        break"
   ]
  },
  {
   "cell_type": "code",
   "execution_count": 18,
   "metadata": {},
   "outputs": [],
   "source": [
    "# 将 词典(vocab) 中的token 转化为 词向量\n",
    "# token -> embedding\n",
    "# token -> id\n",
    "\n",
    "# '是' <-> 10 <-> 300d vector\n",
    "\n",
    "def get_embedding(vocab):\n",
    "    token2embedding = {}\n",
    "    \n",
    "    with bz2.open('dataset/sgns.weibo.word.bz2') as f:\n",
    "        token_vector = f.readlines()\n",
    "        \n",
    "        meta_info = token_vector[0].split()\n",
    "        print(f'{int(meta_info[0])} tokens in embedding file in total, vector size is {int(meta_info[1])}')\n",
    "        \n",
    "        # sgns.weibo.word.bz2 从第二行开始, 每一行是 'token embedding' 的形式\n",
    "        # '我' 0.88383 .... (300)\n",
    "        for line in tqdm(token_vector[1:]):\n",
    "            line = line.split()\n",
    "            token = line[0].decode('utf-8')\n",
    "            \n",
    "            vector = line[1:]\n",
    "            \n",
    "            if token in vocab:\n",
    "                token2embedding[token] = [float(num) for num in vector]\n",
    "        \n",
    "        # enumerate(, [start])\n",
    "        token2id = {token: idx for idx, token in enumerate(token2embedding.keys(), 4)}\n",
    "        id2embedding = {token2id[token]: embedding for token, embedding in token2embedding.items()}\n",
    "        \n",
    "        PAD, UNK, BOS, EOS = '<pad>', '<unk>', '<bos>', 'eos'\n",
    "        \n",
    "        token2id[PAD] = 0\n",
    "        token2id[UNK] = 1\n",
    "        token2id[BOS] = 2\n",
    "        token2id[EOS] = 3\n",
    "        \n",
    "        id2embedding[0] = [.0] * int(meta_info[1])\n",
    "        id2embedding[1] = [.0] * int(meta_info[1])\n",
    "        id2embedding[2] = np.random.random(int(meta_info[1])).tolist()\n",
    "        id2embedding[3] = np.random.random(int(meta_info[1])).tolist()\n",
    "        \n",
    "        emb_mat = [id2embedding[idx] for idx in range(len(id2embedding))]\n",
    "        \n",
    "        return torch.tensor(emb_mat, dtype=torch.long), token2id, len(vocab) + 4"
   ]
  },
  {
   "cell_type": "code",
   "execution_count": 21,
   "metadata": {},
   "outputs": [
    {
     "name": "stdout",
     "output_type": "stream",
     "text": [
      "195202 tokens in embedding file in total, vector size is 300\n"
     ]
    },
    {
     "name": "stderr",
     "output_type": "stream",
     "text": [
      "100%|███████████████████████████████████████████████████████████████████████████████████████████████████████████████████████| 195202/195202 [00:04<00:00, 44767.69it/s]"
     ]
    },
    {
     "name": "stdout",
     "output_type": "stream",
     "text": [
      "31\n"
     ]
    },
    {
     "name": "stderr",
     "output_type": "stream",
     "text": [
      "\n",
      "/tmp/ipykernel_14386/1257561685.py:45: DeprecationWarning: an integer is required (got type float).  Implicit conversion to integers using __int__ is deprecated, and may be removed in a future version of Python.\n",
      "  return torch.tensor(emb_mat, dtype=torch.long), token2id, len(vocab) + 4\n"
     ]
    }
   ],
   "source": [
    "emb_mat, token2id, config['vocab_size'] = get_embedding(vocab)\n",
    "print(token2id['你'])"
   ]
  },
  {
   "cell_type": "code",
   "execution_count": 22,
   "metadata": {},
   "outputs": [],
   "source": [
    "def tokenizer(sent, token2id):\n",
    "    return [token2id.get(token, 1) for token in jieba.cut(sent)]"
   ]
  },
  {
   "cell_type": "code",
   "execution_count": 23,
   "metadata": {},
   "outputs": [],
   "source": [
    "import pandas as pd\n",
    "from collections import defaultdict\n",
    "\n",
    "\n",
    "def read_data(config, token2id, mode='train'):\n",
    "    data_df = pd.read_csv(config[f'{mode}_file_path'], sep=',')\n",
    "    if mode == 'train':\n",
    "        X_train, y_train = defaultdict(list), []\n",
    "        X_val, y_val = defaultdict(list), []\n",
    "        num_val = int(config['train_val_ratio'] * len(data_df))\n",
    "    else:\n",
    "        X_test, y_test = defaultdict(list), []\n",
    "        \n",
    "    for i, row in tqdm(data_df.iterrows(), desc=f'Preprocessing {mode} data', total=len(data_df)):\n",
    "        label = row[1] if mode == 'train' else 0\n",
    "        sentence = row[-1]\n",
    "        inputs = tokenizer(sentence, token2id)\n",
    "        if mode == 'train':\n",
    "            if i < num_val:\n",
    "                X_val['input_ids'].append(inputs)\n",
    "                y_val.append(label)\n",
    "            else:\n",
    "                X_train['input_ids'].append(inputs)\n",
    "                y_train.append(label)\n",
    "        else:\n",
    "            X_test['input_ids'].append(inputs)\n",
    "            y_test.append(label)\n",
    "    \n",
    "    if mode == 'train':\n",
    "        label2id = {label: i for i, label in enumerate(np.unique(y_train))}\n",
    "        id2label = {i: label for label, i in label2id.items()}\n",
    "        \n",
    "        y_train = torch.tensor([label2id[label] for label in y_train], dtype=torch.long)\n",
    "        y_val = torch.tensor([label2id[label] for label in y_val], dtype=torch.long)\n",
    "        \n",
    "        return X_train, y_train, X_val, y_val, label2id, id2label\n",
    "    else:\n",
    "        y_test = torch.tensor(y_test, dtype=torch.long)\n",
    "        return X_test, y_test"
   ]
  },
  {
   "cell_type": "code",
   "execution_count": 24,
   "metadata": {},
   "outputs": [
    {
     "name": "stderr",
     "output_type": "stream",
     "text": [
      "Preprocessing train data: 100%|████████████████████████████████████████████████████████████████████████████████████████████████| 53360/53360 [00:09<00:00, 5613.96it/s]\n",
      "Preprocessing test data: 100%|█████████████████████████████████████████████████████████████████████████████████████████████████| 10000/10000 [00:01<00:00, 5764.72it/s]\n"
     ]
    }
   ],
   "source": [
    "X_train, y_train, X_val, y_val, label2id, id2label = read_data(config, token2id, mode='train')\n",
    "X_test, y_test = read_data(config, token2id, mode='test')"
   ]
  },
  {
   "cell_type": "code",
   "execution_count": 25,
   "metadata": {},
   "outputs": [],
   "source": [
    "from torch.utils.data import Dataset\n",
    "\n",
    "class TNEWSDataset(Dataset):\n",
    "    def __init__(self, X, y):\n",
    "        self.x = X\n",
    "        self.y = y\n",
    "        \n",
    "    def __getitem__(self, idx):\n",
    "        return {\n",
    "            'input_ids': self.x['input_ids'][idx],\n",
    "            'label': self.y[idx]\n",
    "        }\n",
    "    \n",
    "    def __len__(self):\n",
    "        return self.y.size(0)"
   ]
  },
  {
   "cell_type": "code",
   "execution_count": 26,
   "metadata": {},
   "outputs": [],
   "source": [
    "def collate_fn(examples):\n",
    "    input_ids_list = []\n",
    "    labels = []\n",
    "    for example in examples:\n",
    "        input_ids_list.append(example['input_ids'])\n",
    "        labels.append(example['label'])\n",
    "        \n",
    "    # 1.找到input_ids_list中最长的句子\n",
    "    max_length = max(len(input_ids) for input_ids in input_ids_list)\n",
    "    # 2. 定义一个Tensor\n",
    "    input_ids_tensor = torch.zeros((len(labels), max_length), dtype=torch.long)\n",
    "    \n",
    "    for i, input_ids in enumerate(input_ids_list):\n",
    "        # 3.得到当前句子的长度\n",
    "        seq_len = len(input_ids)\n",
    "        input_ids_tensor[i: seq_len] = torch.tensor(input_ids, dtype=torch.long)\n",
    "        \n",
    "    return {\n",
    "        'input_ids': input_ids_tensor,\n",
    "        'label': torch.tensor(labels, dtype=torch.long)\n",
    "    }"
   ]
  },
  {
   "cell_type": "code",
   "execution_count": 27,
   "metadata": {},
   "outputs": [],
   "source": [
    "from torch.utils.data import DataLoader\n",
    "\n",
    "def build_dataloader(config, vocab):\n",
    "    X_train, y_train, X_val, y_val, label2id, id2label = read_data(config, token2id, mode='train')\n",
    "    X_test, y_test = read_data(config, token2id, mode='test')\n",
    "    \n",
    "    train_dataset = TNEWSDataset(X_train, y_train)\n",
    "    val_dataset = TNEWSDataset(X_val, y_val)\n",
    "    test_dataset = TNEWSDataset(X_test, y_test)\n",
    "    \n",
    "    train_dataloader = DataLoader(dataset=train_dataset, batch_size=config['batch_size'], num_workers=8, shuffle=True, collate_fn=collate_fn)\n",
    "    val_dataloader = DataLoader(dataset=val_dataset, batch_size=config['batch_size'], num_workers=8, shuffle=False, collate_fn=collate_fn)\n",
    "    test_dataloader = DataLoader(dataset=test_dataset, batch_size=config['batch_size'], num_workers=8, shuffle=False, collate_fn=collate_fn)\n",
    "    \n",
    "    return id2label, train_dataloader, val_dataloader, test_dataloader"
   ]
  },
  {
   "cell_type": "code",
   "execution_count": 28,
   "metadata": {},
   "outputs": [
    {
     "name": "stderr",
     "output_type": "stream",
     "text": [
      "Preprocessing train data: 100%|████████████████████████████████████████████████████████████████████████████████████████████████| 53360/53360 [00:09<00:00, 5535.85it/s]\n",
      "Preprocessing test data: 100%|█████████████████████████████████████████████████████████████████████████████████████████████████| 10000/10000 [00:01<00:00, 5729.76it/s]\n"
     ]
    }
   ],
   "source": [
    "id2label, train_dataloader, val_dataloader, test_dataloader = build_dataloader(config, vocab)"
   ]
  },
  {
   "cell_type": "code",
   "execution_count": null,
   "metadata": {},
   "outputs": [],
   "source": []
  }
 ],
 "metadata": {
  "kernelspec": {
   "display_name": "Python 3 (ipykernel)",
   "language": "python",
   "name": "python3"
  },
  "language_info": {
   "codemirror_mode": {
    "name": "ipython",
    "version": 3
   },
   "file_extension": ".py",
   "mimetype": "text/x-python",
   "name": "python",
   "nbconvert_exporter": "python",
   "pygments_lexer": "ipython3",
   "version": "3.8.12"
  }
 },
 "nbformat": 4,
 "nbformat_minor": 2
}
