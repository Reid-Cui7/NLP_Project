{
 "cells": [
  {
   "cell_type": "code",
   "execution_count": 15,
   "metadata": {},
   "outputs": [
    {
     "data": {
      "text/plain": [
       "10003"
      ]
     },
     "execution_count": 15,
     "metadata": {},
     "output_type": "execute_result"
    }
   ],
   "source": [
    "import torch\n",
    "import torch.nn as nn\n",
    "\n",
    "\n",
    "config = {\n",
    "    'train_file_path': 'dataset/train.csv',\n",
    "    'test_file_path': 'dataset/test.csv',\n",
    "    'embedding_path': 'dataset/sgns.weibo.word.bz2',\n",
    "    'train_val_ratio': 0.1,\n",
    "    'vocab_size': 30000,\n",
    "    'batch_size': 64,\n",
    "    'num_epochs': 10,\n",
    "    'learning_rate': 1e-3,\n",
    "    'logging_step': 300,\n",
    "    'seed': 10003\n",
    "}\n",
    "\n",
    "config['device'] = 'cuda' if torch.cuda.is_available() else 'cpu'\n",
    "\n",
    "import random\n",
    "import numpy as np\n",
    "\n",
    "def seed_everything(seed):\n",
    "    random.seed(seed)\n",
    "    np.random.seed(seed)\n",
    "    torch.manual_seed(seed)\n",
    "    torch.cuda.manual_seed_all(seed)\n",
    "    return seed\n",
    "\n",
    "seed_everything(config['seed'])"
   ]
  },
  {
   "cell_type": "code",
   "execution_count": 7,
   "metadata": {},
   "outputs": [],
   "source": [
    "# train.csv 4 cols: id, label, label_desc, sentence\n",
    "from collections import Counter\n",
    "from tqdm import tqdm\n",
    "import jieba\n",
    "\n",
    "def get_vocab(config):\n",
    "    token_counter = Counter()\n",
    "    with open(config['train_file_path'], 'r', encoding='utf-8') as f:\n",
    "        lines = f.readlines()\n",
    "        for line in tqdm(lines, desc='Counting tokens', total=len(lines)):\n",
    "            sent = line.split(',')[-1].strip()\n",
    "            sent_cut = list(jieba.cut(sent))\n",
    "            token_counter.update(sent_cut)\n",
    "            # token_counter {'我': 2, '是': 5, ...}\n",
    "    \n",
    "    vocab = set(token for token, _ in token_counter.most_common(config['vocab_size']))\n",
    "    return vocab"
   ]
  },
  {
   "cell_type": "code",
   "execution_count": 9,
   "metadata": {},
   "outputs": [
    {
     "name": "stderr",
     "output_type": "stream",
     "text": [
      "Counting tokens: 100%|█████████████████████████████████████████████████████████████████████████████████████████████████████████████████| 53361/53361 [00:07<00:00, 6960.64it/s]\n"
     ]
    }
   ],
   "source": [
    "vocab = get_vocab(config)"
   ]
  },
  {
   "cell_type": "code",
   "execution_count": 12,
   "metadata": {},
   "outputs": [],
   "source": [
    "import bz2\n",
    "\n",
    "with bz2.open(config['embedding_path']) as f:\n",
    "    token_vector = f.readlines()"
   ]
  },
  {
   "cell_type": "code",
   "execution_count": 14,
   "metadata": {},
   "outputs": [
    {
     "name": "stdout",
     "output_type": "stream",
     "text": [
      "是\n",
      "300\n"
     ]
    }
   ],
   "source": [
    "for i, line in enumerate(token_vector):\n",
    "    if i == 10:\n",
    "        line = line.split()\n",
    "        print(line[0].decode('utf-8'))\n",
    "        # print(line[1:])\n",
    "        print(len(line[1:]))\n",
    "        break"
   ]
  },
  {
   "cell_type": "code",
   "execution_count": 18,
   "metadata": {},
   "outputs": [],
   "source": [
    "# 将 词典(vocab) 中的token 转化为 词向量\n",
    "# token -> embedding\n",
    "# token -> id\n",
    "\n",
    "# '是' <-> 10 <-> 300d vector\n",
    "\n",
    "def get_embedding(vocab):\n",
    "    token2embedding = {}\n",
    "    \n",
    "    with bz2.open('dataset/sgns.weibo.word.bz2') as f:\n",
    "        token_vector = f.readlines()\n",
    "        \n",
    "        meta_info = token_vector[0].split()\n",
    "        print(f'{int(meta_info[0])} tokens in embedding file in total, vector size is {int(meta_info[1])}')\n",
    "        \n",
    "        # sgns.weibo.word.bz2 从第二行开始, 每一行是 'token embedding' 的形式\n",
    "        # '我' 0.88383 .... (300)\n",
    "        for line in tqdm(token_vector[1:]):\n",
    "            line = line.split()\n",
    "            token = line[0].decode('utf-8')\n",
    "            \n",
    "            vector = line[1:]\n",
    "            \n",
    "            if token in vocab:\n",
    "                token2embedding[token] = [float(num) for num in vector]\n",
    "        \n",
    "        # enumerate(, [start])\n",
    "        token2id = {token: idx for idx, token in enumerate(token2embedding.keys(), 4)}\n",
    "        id2embedding = {token2id[token]: embedding for token, embedding in token2embedding.items()}\n",
    "        \n",
    "        PAD, UNK, BOS, EOS = '<pad>', '<unk>', '<bos>', 'eos'\n",
    "        \n",
    "        token2id[PAD] = 0\n",
    "        token2id[UNK] = 1\n",
    "        token2id[BOS] = 2\n",
    "        token2id[EOS] = 3\n",
    "        \n",
    "        id2embedding[0] = [.0] * int(meta_info[1])\n",
    "        id2embedding[1] = [.0] * int(meta_info[1])\n",
    "        id2embedding[2] = np.random.random(int(meta_info[1])).tolist()\n",
    "        id2embedding[3] = np.random.random(int(meta_info[1])).tolist()\n",
    "        \n",
    "        emb_mat = [id2embedding[idx] for idx in range(len(id2embedding))]\n",
    "        \n",
    "        return torch.tensor(emb_mat, dtype=torch.long), token2id, len(vocab) + 4"
   ]
  },
  {
   "cell_type": "code",
   "execution_count": null,
   "metadata": {},
   "outputs": [],
   "source": [
    "emb_mat, token2id, config['vocab_size'] = get_embedding(vocab)\n",
    "print(token2id)"
   ]
  }
 ],
 "metadata": {
  "kernelspec": {
   "display_name": "Python 3 (ipykernel)",
   "language": "python",
   "name": "python3"
  },
  "language_info": {
   "codemirror_mode": {
    "name": "ipython",
    "version": 3
   },
   "file_extension": ".py",
   "mimetype": "text/x-python",
   "name": "python",
   "nbconvert_exporter": "python",
   "pygments_lexer": "ipython3",
   "version": "3.8.12"
  }
 },
 "nbformat": 4,
 "nbformat_minor": 2
}
