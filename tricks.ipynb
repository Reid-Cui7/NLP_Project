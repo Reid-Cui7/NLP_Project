{
 "cells": [
  {
   "cell_type": "code",
   "execution_count": 7,
   "id": "06991313",
   "metadata": {},
   "outputs": [
    {
     "data": {
      "text/plain": [
       "2021"
      ]
     },
     "execution_count": 7,
     "metadata": {},
     "output_type": "execute_result"
    }
   ],
   "source": [
    "import torch\n",
    "import random\n",
    "import numpy as np\n",
    "\n",
    "config = {\n",
    "    'train_file_path': 'dataset/train.csv',\n",
    "    'test_file_path': 'dataset/test.csv',\n",
    "    'train_val_ratio': 0.1,\n",
    "    'model_path': 'dataset/NeZha_model/',\n",
    "    'head': 'cnn',\n",
    "    'batch_size': 16,\n",
    "    'num_epochs': 1,\n",
    "    'warmup_ratio': 0.1,\n",
    "    'learning_rate': 2e-5,\n",
    "    'logging_step': 500,\n",
    "    'seed': 2021\n",
    "}\n",
    "config['device'] = 'cuda' if torch.cuda.is_available() else 'cpu'\n",
    "\n",
    "def seed_everything(seed):\n",
    "    random.seed(seed)\n",
    "    np.random.seed(seed)\n",
    "    torch.manual_seed(seed)\n",
    "    torch.cuda.manual_seed_all(seed)\n",
    "    return seed\n",
    "\n",
    "seed_everything(config['seed'])"
   ]
  },
  {
   "cell_type": "code",
   "execution_count": 2,
   "id": "ecade07b",
   "metadata": {},
   "outputs": [],
   "source": [
    "import pandas as pd\n",
    "from collections import defaultdict\n",
    "from tqdm.notebook import tqdm\n",
    "\n",
    "def read_data(config, tokenizer, mode='train'):\n",
    "    data_df = pd.read_csv(config[f'{mode}_file_path'], sep=',')\n",
    "    if mode == 'train':\n",
    "        X_train, y_train = defaultdict(list), []\n",
    "        X_val, y_val = defaultdict(list), []\n",
    "        num_val = int(len(data_df) * config['train_val_ratio'])\n",
    "    else:\n",
    "        X_test, y_test = defaultdict(list), []\n",
    "        \n",
    "    for i, row in tqdm(data_df.iterrows(), desc=f'Preprocessing {mode} data', total=len(data_df)):\n",
    "        label = row[1] if mode == 'train' else 0\n",
    "        sentence = row[-1]\n",
    "        inputs = tokenizer.encode_plus(sentence, add_special_tokens=True, return_token_type_ids=True, return_attention_mask=True)\n",
    "        \n",
    "        if mode == 'train':\n",
    "            if i < num_val:\n",
    "                X_val['input_ids'].append(inputs['input_ids'])\n",
    "                X_val['token_type_ids'].append(inputs['token_type_ids'])\n",
    "                X_val['attention_mask'].append(inputs['attention_mask'])\n",
    "                y_val.append(label)\n",
    "            else:\n",
    "                X_train['input_ids'].append(inputs['input_ids'])\n",
    "                X_train['token_type_ids'].append(inputs['token_type_ids'])\n",
    "                X_train['attention_mask'].append(inputs['attention_mask'])\n",
    "                y_train.append(label)\n",
    "        else:\n",
    "            X_test['input_ids'].append(inputs['input_ids'])\n",
    "            X_test['token_type_ids'].append(inputs['token_type_ids'])\n",
    "            X_test['attention_mask'].append(inputs['attention_mask'])\n",
    "            y_test.append(label) \n",
    "            \n",
    "    if mode == 'train':\n",
    "        label2id = {label: i for i, label in enumerate(np.unique(y_train))}\n",
    "        id2label = {i: label for label, i in label2id.items()}\n",
    "        y_train = torch.tensor([label2id[label] for label in y_train], dtype=torch.long)\n",
    "        y_val = torch.tensor([label2id[label] for label in y_val], dtype=torch.long)\n",
    "        return X_train, y_train, X_val, y_val, label2id, id2label\n",
    "    else:\n",
    "        y_test = torch.tensor(y_test, dtype=torch.long)\n",
    "        return X_test, y_test"
   ]
  },
  {
   "cell_type": "code",
   "execution_count": 3,
   "id": "75833904",
   "metadata": {},
   "outputs": [],
   "source": [
    "from torch.utils.data import Dataset\n",
    "\n",
    "class TNEWSDataset(Dataset):\n",
    "\n",
    "    def __init__(self, X, y):\n",
    "        self.x = X\n",
    "        self.y = y\n",
    "\n",
    "    def __getitem__(self, idx):\n",
    "        # example\n",
    "        return {\n",
    "            'input_ids': self.x['input_ids'][idx],\n",
    "            'token_type_ids': self.x['token_type_ids'][idx],\n",
    "            'attention_mask': self.x['attention_mask'][idx],\n",
    "            'label': self.y[idx]\n",
    "        }\n",
    "\n",
    "    def __len__(self):\n",
    "        return self.y.size(0)"
   ]
  },
  {
   "cell_type": "code",
   "execution_count": 4,
   "id": "e6966a49",
   "metadata": {},
   "outputs": [],
   "source": [
    "# merge examples into tensor\n",
    "def collate_fn(examples):\n",
    "    input_ids_list = []\n",
    "    token_type_ids_list = []\n",
    "    attention_mask_list = []\n",
    "    labels = []\n",
    "\n",
    "    for example in examples:\n",
    "        input_ids_list.append(example['input_ids'])\n",
    "        token_type_ids_list.append(example['token_type_ids'])\n",
    "        attention_mask_list.append(example['attention_mask'])\n",
    "        labels.append(example['label'])\n",
    "\n",
    "    max_length = max(len(input_ids) for input_ids in input_ids_list)\n",
    "    input_ids_tensor = torch.zeros((len(labels), max_length), dtype=torch.long)\n",
    "    token_type_ids_tensor = torch.zeros_like(input_ids_tensor)\n",
    "    attention_mask_tensor = torch.zeros_like(input_ids_tensor)\n",
    "    for i, input_ids in enumerate(input_ids_list):\n",
    "        seq_len = len(input_ids)\n",
    "        input_ids_tensor[i, :seq_len] = torch.tensor(input_ids, dtype=torch.long)\n",
    "        token_type_ids_tensor[i, :seq_len] = torch.tensor(token_type_ids_list[i], dtype=torch.long)\n",
    "        attention_mask_tensor[i, :seq_len] = torch.tensor(attention_mask_list[i], dtype=torch.long)\n",
    "\n",
    "    return {\n",
    "        'input_ids': input_ids_tensor,\n",
    "        'token_type_ids': token_type_ids_tensor,\n",
    "        'attention_mask': attention_mask_tensor,\n",
    "        'labels': torch.tensor(labels, dtype=torch.long)\n",
    "    }"
   ]
  },
  {
   "cell_type": "code",
   "execution_count": 5,
   "id": "de9388bb",
   "metadata": {},
   "outputs": [],
   "source": [
    "from transformers import BertTokenizer\n",
    "from torch.utils.data import DataLoader\n",
    "\n",
    "def build_dataloader(config):\n",
    "    tokenizer = BertTokenizer.from_pretrained(config['model_path'])\n",
    "    X_train, y_train, X_val, y_val, label2id, id2label = read_data(config, tokenizer, mode='train')\n",
    "    X_test, y_test = read_data(config, tokenizer, mode='test')\n",
    "    \n",
    "    train_dataset = TNEWSDataset(X_train, y_train)\n",
    "    val_dataset = TNEWSDataset(X_val, y_val)\n",
    "    test_dataset = TNEWSDataset(X_test, y_test)\n",
    "    \n",
    "    train_dataloader = DataLoader(dataset=train_dataset, batch_size=config['batch_size'],\n",
    "                                  num_workers=4, shuffle=True, collate_fn=collate_fn)\n",
    "    val_dataloader = DataLoader(dataset=val_dataset, batch_size=config['batch_size'],\n",
    "                                num_workers=4, shuffle=False, collate_fn=collate_fn)\n",
    "    test_dataloader = DataLoader(dataset=test_dataset, batch_size=config['batch_size'],\n",
    "                                 num_workers=4, shuffle=False, collate_fn=collate_fn)\n",
    "    return id2label, test_dataloader, train_dataloader, val_dataloader"
   ]
  },
  {
   "cell_type": "code",
   "execution_count": 6,
   "id": "d6ad5fcd",
   "metadata": {},
   "outputs": [
    {
     "data": {
      "application/vnd.jupyter.widget-view+json": {
       "model_id": "3ea8127e5ea64d40a83c18fb8a5c9e95",
       "version_major": 2,
       "version_minor": 0
      },
      "text/plain": [
       "Preprocessing train data:   0%|          | 0/53360 [00:00<?, ?it/s]"
      ]
     },
     "metadata": {},
     "output_type": "display_data"
    },
    {
     "data": {
      "application/vnd.jupyter.widget-view+json": {
       "model_id": "0e32c24d3ffa428fa01e5481986ebca6",
       "version_major": 2,
       "version_minor": 0
      },
      "text/plain": [
       "Preprocessing test data:   0%|          | 0/10000 [00:00<?, ?it/s]"
      ]
     },
     "metadata": {},
     "output_type": "display_data"
    }
   ],
   "source": [
    "id2label, test_dataloader, train_dataloader, val_dataloader = build_dataloader(config)"
   ]
  },
  {
   "cell_type": "code",
   "execution_count": 8,
   "id": "997623da",
   "metadata": {},
   "outputs": [],
   "source": [
    "from NeZha import *\n",
    "from extra_loss import FocalLoss\n",
    "\n",
    "class NeZhaForTNEWS(NeZhaPreTrainedModel):\n",
    "\n",
    "    def __init__(self, config: NeZhaConfig, model_path: str, classifier: nn.Module):\n",
    "        super(NeZhaForTNEWS, self).__init__(config)\n",
    "        self.bert = NeZhaModel.from_pretrained(model_path, config=config)\n",
    "        self.classifier = classifier\n",
    "        self.config = config\n",
    "        \n",
    "    def forward(self, input_ids=None, token_type_ids=None, attention_mask=None, labels=None):\n",
    "        outputs = self.bert(input_ids, attention_mask=attention_mask, token_type_ids=token_type_ids)\n",
    "        hidden_states = outputs[2]\n",
    "        logits = self.classifier(hidden_states, input_ids)\n",
    "        outputs = (logits,)\n",
    "        \n",
    "        if labels is not None:\n",
    "            loss_fct = FocalLoss(num_classes=self.config.num_labels)\n",
    "            loss = loss_fct(logits, labels.view(-1))\n",
    "            outputs = (loss,) + outputs\n",
    "            \n",
    "        return outputs"
   ]
  },
  {
   "cell_type": "code",
   "execution_count": 11,
   "id": "90f1f4f1",
   "metadata": {},
   "outputs": [],
   "source": [
    "import torch.nn.functional as F\n",
    "import torch.nn as nn\n",
    "from typing import List\n",
    "\n",
    "class ConvClassifier(nn.Module):\n",
    "    def __init__(self, config):\n",
    "        super(ConvClassifier, self).__init__()\n",
    "        self.conv = nn.Conv1d(in_channels=config.hidden_size, out_channels=config.hidden_size, kernel_size=3, padding=(3-1) // 2)\n",
    "        self.global_max_pool = nn.AdaptiveMaxPool1d(1)\n",
    "        self.dropout = nn.Dropout(config.hidden_dropout_prob)\n",
    "        self.fc = nn.Linear(config.hidden_size, config.num_labels)\n",
    "        \n",
    "    def forward(self, hidden_states: List[torch.Tensor], input_ids: torch.Tensor):\n",
    "        hidden_states = self.dropout(hidden_states[-1])  \n",
    "        hidden_states = hidden_states.permute(0, 2, 1)\n",
    "        out = F.relu(self.conv(hidden_states))\n",
    "        out = self.global_max_pool(out).squeeze(dim=2)\n",
    "        out = self.fc(out)\n",
    "        return out"
   ]
  },
  {
   "cell_type": "code",
   "execution_count": 12,
   "id": "707ecc47",
   "metadata": {},
   "outputs": [],
   "source": [
    "def build_model(model_path, config, head):\n",
    "    heads = {\n",
    "        'cnn': ConvClassifier\n",
    "    }\n",
    "    assert head in heads, \"head must have been implemented\"\n",
    "    print(f'>>> You are using {head} head ...')\n",
    "    model = NeZhaForTNEWS(config, model_path, heads[head](config))\n",
    "    return model"
   ]
  },
  {
   "cell_type": "code",
   "execution_count": 14,
   "id": "335d720d",
   "metadata": {},
   "outputs": [],
   "source": [
    "from sklearn.metrics import f1_score\n",
    "import numpy as np\n",
    "\n",
    "def evaluation(config, model, val_dataloader):\n",
    "    model.eval()\n",
    "    preds = []\n",
    "    labels = []\n",
    "    val_loss = 0.\n",
    "    val_iterator = tqdm(val_dataloader, desc='Evaluation', total=len(val_dataloader))\n",
    "\n",
    "    with torch.no_grad():\n",
    "        for batch in val_iterator:\n",
    "            labels.append(batch['labels'])\n",
    "            batch = {item: value.to(config['device']) for item, value in batch.items()}\n",
    "            loss, logits = model(**batch)[:2]\n",
    "\n",
    "            val_loss += loss.item()\n",
    "            preds.append(logits.argmax(dim=-1).detach().cpu())\n",
    "\n",
    "    avg_val_loss = val_loss / len(val_dataloader)\n",
    "    labels = torch.cat(labels, dim=0).numpy()\n",
    "    preds = torch.cat(preds, dim=0).numpy()\n",
    "    f1 = f1_score(labels, preds, average='macro')\n",
    "    return avg_val_loss, f1"
   ]
  },
  {
   "cell_type": "code",
   "execution_count": 15,
   "id": "f2bdd3b1",
   "metadata": {},
   "outputs": [],
   "source": [
    "from extra_loss import *\n",
    "from extra_optim import *\n",
    "from torch.optim import AdamW\n",
    "from tqdm.notebook import trange\n",
    "\n",
    "def train(config, id2label, train_dataloader, val_dataloader):\n",
    "    bert_config = NeZhaConfig.from_pretrained(config['model_path'])\n",
    "    bert_config.num_labels = len(id2label)\n",
    "    bert_config.output_hidden_states = True\n",
    "    model = build_model(config['model_path'], bert_config, config['head'])\n",
    "\n",
    "    optimizer_grouped_parameters = model.parameters()\n",
    "    optimizer = AdamW(optimizer_grouped_parameters, lr=config['learning_rate'])\n",
    "    # Lookahead要有一个基优化器， k=5, alpha=1\n",
    "    optimizer = Lookahead(optimizer, 5, 1)\n",
    "    total_steps = config['num_epochs'] * len(train_dataloader)\n",
    "    \n",
    "    lr_scheduler = WarmupLinearSchedule(optimizer,\n",
    "                                        warmup_steps=int(config['warmup_ratio'] * total_steps),\n",
    "                                        t_total=total_steps)\n",
    "    model.to(config['device'])\n",
    "    epoch_iterator = trange(config['num_epochs'])\n",
    "    global_steps = 0\n",
    "    train_loss = 0.\n",
    "    logging_loss = 0.\n",
    "\n",
    "    for epoch in epoch_iterator:\n",
    "\n",
    "        train_iterator = tqdm(train_dataloader, desc='Training', total=len(train_dataloader))\n",
    "        model.train()\n",
    "        for batch in train_iterator:\n",
    "            batch = {item: value.to(config['device']) for item, value in batch.items()}\n",
    "            loss = model(**batch)[0]\n",
    "\n",
    "            model.zero_grad()\n",
    "            loss.backward()\n",
    "            \n",
    "            optimizer.step()\n",
    "            lr_scheduler.step()\n",
    "\n",
    "            train_loss += loss.item()\n",
    "            global_steps += 1\n",
    "\n",
    "            if global_steps % config['logging_step'] == 0:\n",
    "                print_train_loss = (train_loss - logging_loss) / config['logging_step']\n",
    "                logging_loss = train_loss\n",
    "\n",
    "                avg_val_loss, f1 = evaluation(config, model, val_dataloader)\n",
    "\n",
    "                print_log = f'>>> training loss: {print_train_loss:.4f}, valid loss: {avg_val_loss:.4f}, ' \\\n",
    "                            f'valid f1 score: {f1:.4f}'\n",
    "                print(print_log)\n",
    "                model.train()\n",
    "\n",
    "    return model"
   ]
  },
  {
   "cell_type": "code",
   "execution_count": 16,
   "id": "ab3bf02c",
   "metadata": {},
   "outputs": [
    {
     "name": "stdout",
     "output_type": "stream",
     "text": [
      ">>> You are using cnn head ...\n"
     ]
    },
    {
     "name": "stderr",
     "output_type": "stream",
     "text": [
      "Some weights of the model checkpoint at dataset/NeZha_model/ were not used when initializing NeZhaModel: ['cls.predictions.transform.dense.bias', 'cls.predictions.transform.dense.weight', 'cls.seq_relationship.weight', 'cls.predictions.decoder.weight', 'cls.predictions.bias', 'cls.predictions.transform.LayerNorm.bias', 'cls.predictions.transform.LayerNorm.weight', 'cls.seq_relationship.bias']\n",
      "- This IS expected if you are initializing NeZhaModel from the checkpoint of a model trained on another task or with another architecture (e.g. initializing a BertForSequenceClassification model from a BertForPreTraining model).\n",
      "- This IS NOT expected if you are initializing NeZhaModel from the checkpoint of a model that you expect to be exactly identical (initializing a BertForSequenceClassification model from a BertForSequenceClassification model).\n",
      "Some weights of NeZhaModel were not initialized from the model checkpoint at dataset/NeZha_model/ and are newly initialized: ['bert.encoder.layer.5.attention.self.relative_positions_encoding.positions_encoding', 'bert.encoder.layer.7.attention.self.relative_positions_encoding.positions_encoding', 'bert.encoder.layer.6.attention.self.relative_positions_encoding.positions_encoding', 'bert.encoder.layer.0.attention.self.relative_positions_encoding.positions_encoding', 'bert.encoder.layer.2.attention.self.relative_positions_encoding.positions_encoding', 'bert.encoder.layer.4.attention.self.relative_positions_encoding.positions_encoding', 'bert.encoder.layer.9.attention.self.relative_positions_encoding.positions_encoding', 'bert.encoder.layer.3.attention.self.relative_positions_encoding.positions_encoding', 'bert.encoder.layer.1.attention.self.relative_positions_encoding.positions_encoding', 'bert.encoder.layer.8.attention.self.relative_positions_encoding.positions_encoding', 'bert.encoder.layer.10.attention.self.relative_positions_encoding.positions_encoding', 'bert.encoder.layer.11.attention.self.relative_positions_encoding.positions_encoding']\n",
      "You should probably TRAIN this model on a down-stream task to be able to use it for predictions and inference.\n"
     ]
    },
    {
     "data": {
      "application/vnd.jupyter.widget-view+json": {
       "model_id": "f7dbdc8e77744252b7a5a06a5c046d1d",
       "version_major": 2,
       "version_minor": 0
      },
      "text/plain": [
       "  0%|          | 0/1 [00:00<?, ?it/s]"
      ]
     },
     "metadata": {},
     "output_type": "display_data"
    },
    {
     "data": {
      "application/vnd.jupyter.widget-view+json": {
       "model_id": "a389aeb5d7fe43eea521b63f2dbaa720",
       "version_major": 2,
       "version_minor": 0
      },
      "text/plain": [
       "Training:   0%|          | 0/3002 [00:00<?, ?it/s]"
      ]
     },
     "metadata": {},
     "output_type": "display_data"
    },
    {
     "data": {
      "application/vnd.jupyter.widget-view+json": {
       "model_id": "2c448b5eecaf40228e2efd8bf92c4e60",
       "version_major": 2,
       "version_minor": 0
      },
      "text/plain": [
       "Evaluation:   0%|          | 0/334 [00:00<?, ?it/s]"
      ]
     },
     "metadata": {},
     "output_type": "display_data"
    },
    {
     "name": "stdout",
     "output_type": "stream",
     "text": [
      ">>> training loss: 1.1973, valid loss: 0.7609, valid f1 score: 0.4783\n"
     ]
    },
    {
     "data": {
      "application/vnd.jupyter.widget-view+json": {
       "model_id": "dc9164fa7b6d402b866ce14136b390db",
       "version_major": 2,
       "version_minor": 0
      },
      "text/plain": [
       "Evaluation:   0%|          | 0/334 [00:00<?, ?it/s]"
      ]
     },
     "metadata": {},
     "output_type": "display_data"
    },
    {
     "name": "stdout",
     "output_type": "stream",
     "text": [
      ">>> training loss: 0.6955, valid loss: 0.6786, valid f1 score: 0.4784\n"
     ]
    },
    {
     "data": {
      "application/vnd.jupyter.widget-view+json": {
       "model_id": "bfd845abcdb241f38bfdbee1a1e6b71e",
       "version_major": 2,
       "version_minor": 0
      },
      "text/plain": [
       "Evaluation:   0%|          | 0/334 [00:00<?, ?it/s]"
      ]
     },
     "metadata": {},
     "output_type": "display_data"
    },
    {
     "name": "stdout",
     "output_type": "stream",
     "text": [
      ">>> training loss: 0.6746, valid loss: 0.6422, valid f1 score: 0.4876\n"
     ]
    },
    {
     "data": {
      "application/vnd.jupyter.widget-view+json": {
       "model_id": "b8041edea6184b22b1d2dc84f23331c3",
       "version_major": 2,
       "version_minor": 0
      },
      "text/plain": [
       "Evaluation:   0%|          | 0/334 [00:00<?, ?it/s]"
      ]
     },
     "metadata": {},
     "output_type": "display_data"
    },
    {
     "name": "stdout",
     "output_type": "stream",
     "text": [
      ">>> training loss: 0.6293, valid loss: 0.6109, valid f1 score: 0.5091\n"
     ]
    },
    {
     "data": {
      "application/vnd.jupyter.widget-view+json": {
       "model_id": "4d1ef88d69e0437b8ec527e5a76285f3",
       "version_major": 2,
       "version_minor": 0
      },
      "text/plain": [
       "Evaluation:   0%|          | 0/334 [00:00<?, ?it/s]"
      ]
     },
     "metadata": {},
     "output_type": "display_data"
    },
    {
     "name": "stdout",
     "output_type": "stream",
     "text": [
      ">>> training loss: 0.6109, valid loss: 0.5960, valid f1 score: 0.5083\n"
     ]
    },
    {
     "data": {
      "application/vnd.jupyter.widget-view+json": {
       "model_id": "e70e55f2af3349b29f76c615f186831e",
       "version_major": 2,
       "version_minor": 0
      },
      "text/plain": [
       "Evaluation:   0%|          | 0/334 [00:00<?, ?it/s]"
      ]
     },
     "metadata": {},
     "output_type": "display_data"
    },
    {
     "name": "stdout",
     "output_type": "stream",
     "text": [
      ">>> training loss: 0.5903, valid loss: 0.5886, valid f1 score: 0.5077\n"
     ]
    }
   ],
   "source": [
    "model = train(config, id2label, train_dataloader, val_dataloader)"
   ]
  }
 ],
 "metadata": {
  "kernelspec": {
   "display_name": "Python 3 (ipykernel)",
   "language": "python",
   "name": "python3"
  },
  "language_info": {
   "codemirror_mode": {
    "name": "ipython",
    "version": 3
   },
   "file_extension": ".py",
   "mimetype": "text/x-python",
   "name": "python",
   "nbconvert_exporter": "python",
   "pygments_lexer": "ipython3",
   "version": "3.8.12"
  }
 },
 "nbformat": 4,
 "nbformat_minor": 5
}
